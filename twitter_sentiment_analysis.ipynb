{
 "cells": [
  {
   "cell_type": "markdown",
   "metadata": {},
   "source": []
  },
  {
   "cell_type": "markdown",
   "metadata": {},
   "source": [
    "# Sentiment Analysis of Tweets about Apple and Google Products\n",
    "\n",
    "## Project Summary\n",
    "\n",
    "This project aims to analyze the sentiment of tweets related to Apple and Google products using Natural Language Processing (NLP) techniques. The dataset used contains over 9,000 tweets rated by human raters as either positive, negative, or neutral. The goal is to build a model capable of determining the sentiment of a tweet based on its content, which can be used for analyzing public perception of these tech companies.\n",
    "\n",
    "The project involved the following steps:\n",
    "- **Data Preparation**: Cleaned the data, removed irrelevant content, and vectorized the text using TF-IDF.\n",
    "- **Model Building**: A baseline Logistic Regression model was first built for binary classification (positive vs. negative). We then extended it to multiclass classification to include neutral tweets.\n",
    "- **Advanced Models**: We applied Random Forest (both untuned and tuned) and Neural Network models to improve performance.\n",
    "- **Model Evaluation**: Various models were evaluated and compared using metrics such as accuracy, precision, recall, and F1-score.\n",
    "\n",
    "The best-performing model was the Random Forest classifier, which showed high accuracy and balanced precision and recall across all classes. This model provides a practical solution for real-time analysis of tweet sentiments related to Apple and Google products.\n",
    "\n",
    "In conclusion, this project highlights the effectiveness of different machine learning models in sentiment analysis tasks, with Random Forest proving to be the most suitable for our dataset.\n"
   ]
  },
  {
   "cell_type": "markdown",
   "metadata": {},
   "source": [
    "# 1. Business Understanding\n",
    "#### 1. Objective:\n",
    "\n",
    "The goal is to build an NLP model that rates the sentiment of a Tweet as positive, negative, or neutral, based on its content. This is useful for companies to understand customer opinions, make decisions, and improve products.\n",
    "\n",
    "\n",
    "#### 2. Target Audience: \n",
    "\n",
    "The sentiment analysis could help marketers, product managers, and customer service teams understand how users feel about products.\n",
    "\n",
    "\n",
    "#### 3. Success Criteria:\n",
    "\n",
    "Success is measured by the accuracy and other classification metrics (e.g., F1-score) of the model. An acceptable model should classify sentiments effectively\n",
    "\n",
    "#### 4.  Key Questions:\n",
    "\n",
    "~ What is the general sentiment towards Apple and Google products?\n",
    "\n",
    "~ Are there specific topics that elicit strong positive or negative sentiment?\n",
    "\n",
    "~ How does the sentiment change over time or in response to product releases"
   ]
  },
  {
   "cell_type": "markdown",
   "metadata": {},
   "source": [
    "# 2. Data Understanding\n",
    "Dataset Overview: The file judge-1377884607_tweet_product_company.csv contains over 9,000 Tweets, each rated as positive, negative, or neither by human raters.\n",
    "\n",
    "\n",
    "#### Initial Exploration:\n",
    "\n",
    "1. Load the data to examine its structure, key columns, and distribution of the target labels.\n",
    "2. Check if there are columns related to the content of the Tweet, the date, user information, etc.\n",
    "3. Analyze the class distribution to identify any imbalance (e.g., are most Tweets neutral?)."
   ]
  },
  {
   "cell_type": "code",
   "execution_count": 1,
   "metadata": {},
   "outputs": [],
   "source": [
    "import pandas as pd\n",
    "df = pd.read_csv('judge-1377884607_tweet_product_company.csv', encoding='latin1')\n"
   ]
  },
  {
   "cell_type": "code",
   "execution_count": 2,
   "metadata": {},
   "outputs": [
    {
     "data": {
      "text/html": [
       "<div>\n",
       "<style scoped>\n",
       "    .dataframe tbody tr th:only-of-type {\n",
       "        vertical-align: middle;\n",
       "    }\n",
       "\n",
       "    .dataframe tbody tr th {\n",
       "        vertical-align: top;\n",
       "    }\n",
       "\n",
       "    .dataframe thead th {\n",
       "        text-align: right;\n",
       "    }\n",
       "</style>\n",
       "<table border=\"1\" class=\"dataframe\">\n",
       "  <thead>\n",
       "    <tr style=\"text-align: right;\">\n",
       "      <th></th>\n",
       "      <th>tweet_text</th>\n",
       "      <th>emotion_in_tweet_is_directed_at</th>\n",
       "      <th>is_there_an_emotion_directed_at_a_brand_or_product</th>\n",
       "    </tr>\n",
       "  </thead>\n",
       "  <tbody>\n",
       "    <tr>\n",
       "      <th>0</th>\n",
       "      <td>.@wesley83 I have a 3G iPhone. After 3 hrs twe...</td>\n",
       "      <td>iPhone</td>\n",
       "      <td>Negative emotion</td>\n",
       "    </tr>\n",
       "    <tr>\n",
       "      <th>1</th>\n",
       "      <td>@jessedee Know about @fludapp ? Awesome iPad/i...</td>\n",
       "      <td>iPad or iPhone App</td>\n",
       "      <td>Positive emotion</td>\n",
       "    </tr>\n",
       "    <tr>\n",
       "      <th>2</th>\n",
       "      <td>@swonderlin Can not wait for #iPad 2 also. The...</td>\n",
       "      <td>iPad</td>\n",
       "      <td>Positive emotion</td>\n",
       "    </tr>\n",
       "    <tr>\n",
       "      <th>3</th>\n",
       "      <td>@sxsw I hope this year's festival isn't as cra...</td>\n",
       "      <td>iPad or iPhone App</td>\n",
       "      <td>Negative emotion</td>\n",
       "    </tr>\n",
       "    <tr>\n",
       "      <th>4</th>\n",
       "      <td>@sxtxstate great stuff on Fri #SXSW: Marissa M...</td>\n",
       "      <td>Google</td>\n",
       "      <td>Positive emotion</td>\n",
       "    </tr>\n",
       "  </tbody>\n",
       "</table>\n",
       "</div>"
      ],
      "text/plain": [
       "                                          tweet_text  \\\n",
       "0  .@wesley83 I have a 3G iPhone. After 3 hrs twe...   \n",
       "1  @jessedee Know about @fludapp ? Awesome iPad/i...   \n",
       "2  @swonderlin Can not wait for #iPad 2 also. The...   \n",
       "3  @sxsw I hope this year's festival isn't as cra...   \n",
       "4  @sxtxstate great stuff on Fri #SXSW: Marissa M...   \n",
       "\n",
       "  emotion_in_tweet_is_directed_at  \\\n",
       "0                          iPhone   \n",
       "1              iPad or iPhone App   \n",
       "2                            iPad   \n",
       "3              iPad or iPhone App   \n",
       "4                          Google   \n",
       "\n",
       "  is_there_an_emotion_directed_at_a_brand_or_product  \n",
       "0                                   Negative emotion  \n",
       "1                                   Positive emotion  \n",
       "2                                   Positive emotion  \n",
       "3                                   Negative emotion  \n",
       "4                                   Positive emotion  "
      ]
     },
     "execution_count": 2,
     "metadata": {},
     "output_type": "execute_result"
    }
   ],
   "source": [
    "df.head()"
   ]
  },
  {
   "cell_type": "code",
   "execution_count": 3,
   "metadata": {},
   "outputs": [
    {
     "name": "stdout",
     "output_type": "stream",
     "text": [
      "<class 'pandas.core.frame.DataFrame'>\n",
      "RangeIndex: 9093 entries, 0 to 9092\n",
      "Data columns (total 3 columns):\n",
      " #   Column                                              Non-Null Count  Dtype \n",
      "---  ------                                              --------------  ----- \n",
      " 0   tweet_text                                          9092 non-null   object\n",
      " 1   emotion_in_tweet_is_directed_at                     3291 non-null   object\n",
      " 2   is_there_an_emotion_directed_at_a_brand_or_product  9093 non-null   object\n",
      "dtypes: object(3)\n",
      "memory usage: 213.2+ KB\n"
     ]
    }
   ],
   "source": [
    "df.info()"
   ]
  },
  {
   "cell_type": "code",
   "execution_count": 4,
   "metadata": {
    "scrolled": false
   },
   "outputs": [
    {
     "data": {
      "text/plain": [
       "<bound method NDFrame.describe of                                              tweet_text  \\\n",
       "0     .@wesley83 I have a 3G iPhone. After 3 hrs twe...   \n",
       "1     @jessedee Know about @fludapp ? Awesome iPad/i...   \n",
       "2     @swonderlin Can not wait for #iPad 2 also. The...   \n",
       "3     @sxsw I hope this year's festival isn't as cra...   \n",
       "4     @sxtxstate great stuff on Fri #SXSW: Marissa M...   \n",
       "...                                                 ...   \n",
       "9088                      Ipad everywhere. #SXSW {link}   \n",
       "9089  Wave, buzz... RT @mention We interrupt your re...   \n",
       "9090  Google's Zeiger, a physician never reported po...   \n",
       "9091  Some Verizon iPhone customers complained their...   \n",
       "9092  Ï¡Ïàü_ÊÎÒ£Áââ_£â_ÛâRT @...   \n",
       "\n",
       "     emotion_in_tweet_is_directed_at  \\\n",
       "0                             iPhone   \n",
       "1                 iPad or iPhone App   \n",
       "2                               iPad   \n",
       "3                 iPad or iPhone App   \n",
       "4                             Google   \n",
       "...                              ...   \n",
       "9088                            iPad   \n",
       "9089                             NaN   \n",
       "9090                             NaN   \n",
       "9091                             NaN   \n",
       "9092                             NaN   \n",
       "\n",
       "     is_there_an_emotion_directed_at_a_brand_or_product  \n",
       "0                                      Negative emotion  \n",
       "1                                      Positive emotion  \n",
       "2                                      Positive emotion  \n",
       "3                                      Negative emotion  \n",
       "4                                      Positive emotion  \n",
       "...                                                 ...  \n",
       "9088                                   Positive emotion  \n",
       "9089                 No emotion toward brand or product  \n",
       "9090                 No emotion toward brand or product  \n",
       "9091                 No emotion toward brand or product  \n",
       "9092                 No emotion toward brand or product  \n",
       "\n",
       "[9093 rows x 3 columns]>"
      ]
     },
     "execution_count": 4,
     "metadata": {},
     "output_type": "execute_result"
    }
   ],
   "source": [
    "df.describe"
   ]
  },
  {
   "cell_type": "code",
   "execution_count": 5,
   "metadata": {},
   "outputs": [
    {
     "name": "stdout",
     "output_type": "stream",
     "text": [
      "Index(['tweet_text', 'emotion_in_tweet_is_directed_at',\n",
      "       'is_there_an_emotion_directed_at_a_brand_or_product'],\n",
      "      dtype='object')\n"
     ]
    }
   ],
   "source": [
    "print(df.columns)"
   ]
  },
  {
   "cell_type": "code",
   "execution_count": 6,
   "metadata": {},
   "outputs": [
    {
     "data": {
      "text/plain": [
       "No emotion toward brand or product    5389\n",
       "Positive emotion                      2978\n",
       "Negative emotion                       570\n",
       "I can't tell                           156\n",
       "Name: is_there_an_emotion_directed_at_a_brand_or_product, dtype: int64"
      ]
     },
     "execution_count": 6,
     "metadata": {},
     "output_type": "execute_result"
    }
   ],
   "source": [
    "df.is_there_an_emotion_directed_at_a_brand_or_product.value_counts()"
   ]
  },
  {
   "cell_type": "code",
   "execution_count": 7,
   "metadata": {},
   "outputs": [
    {
     "data": {
      "text/plain": [
       "iPad                               946\n",
       "Apple                              661\n",
       "iPad or iPhone App                 470\n",
       "Google                             430\n",
       "iPhone                             297\n",
       "Other Google product or service    293\n",
       "Android App                         81\n",
       "Android                             78\n",
       "Other Apple product or service      35\n",
       "Name: emotion_in_tweet_is_directed_at, dtype: int64"
      ]
     },
     "execution_count": 7,
     "metadata": {},
     "output_type": "execute_result"
    }
   ],
   "source": [
    "df.emotion_in_tweet_is_directed_at.value_counts()"
   ]
  },
  {
   "cell_type": "code",
   "execution_count": 8,
   "metadata": {},
   "outputs": [
    {
     "data": {
      "text/plain": [
       "RT @mention Marissa Mayer: Google Will Connect the Digital &amp; Physical Worlds Through Mobile - {link} #sxsw                                           5\n",
       "RT @mention Marissa Mayer: Google Will Connect the Digital &amp; Physical Worlds Through Mobile - {link} #SXSW                                           4\n",
       "RT @mention Google to Launch Major New Social Network Called Circles, Possibly Today {link} #sxsw                                                        4\n",
       "RT @mention Google to Launch Major New Social Network Called Circles, Possibly Today {link} #SXSW                                                        3\n",
       "Marissa Mayer: Google Will Connect the Digital &amp; Physical Worlds Through Mobile - {link} #sxsw                                                       2\n",
       "                                                                                                                                                        ..\n",
       "Watching the Man U game at the Radisson while waiting for the next talk about the iPad vs android #sxsw                                                  1\n",
       "#Apple has set up a temporary Apple Store in #Austin, TX for #SXSW {link} #applestore #applestore                                                        1\n",
       "@mention and @mention saying hi at #sxsw with their new iPhone cases! #zazzlesxsw {link}                                                                 1\n",
       "RT @mention At #SXSW Social Hackathon session with Google, Bing, Webtrends and Chzbrgr. Going to figure out how to do this in Mpls/St Paul #bolinsxsw    1\n",
       "I don't have a television, but still have a two-screen expierence: iPhone and iPad. #psych #SXSW                                                         1\n",
       "Name: tweet_text, Length: 9065, dtype: int64"
      ]
     },
     "execution_count": 8,
     "metadata": {},
     "output_type": "execute_result"
    }
   ],
   "source": [
    "df. tweet_text.value_counts()"
   ]
  },
  {
   "cell_type": "markdown",
   "metadata": {},
   "source": [
    "# 3. Data Preparation\n",
    "\n",
    "As stated in the code steps in the cell below."
   ]
  },
  {
   "cell_type": "code",
   "execution_count": 9,
   "metadata": {
    "scrolled": false
   },
   "outputs": [
    {
     "name": "stdout",
     "output_type": "stream",
     "text": [
      "Missing Values:\n",
      " tweet_text                                               1\n",
      "emotion_in_tweet_is_directed_at                       5802\n",
      "is_there_an_emotion_directed_at_a_brand_or_product       0\n",
      "dtype: int64\n",
      "\n",
      "Percentage of Missing Values:\n",
      " tweet_text                                             0.010997\n",
      "emotion_in_tweet_is_directed_at                       63.807324\n",
      "is_there_an_emotion_directed_at_a_brand_or_product     0.000000\n",
      "dtype: float64\n",
      "\n",
      "Number of Duplicate Rows: 22\n",
      "\n",
      "Duplicate Rows:\n",
      "                                              tweet_text  \\\n",
      "468      Before It Even Begins, Apple Wins #SXSW {link}   \n",
      "776   Google to Launch Major New Social Network Call...   \n",
      "2232  Marissa Mayer: Google Will Connect the Digital...   \n",
      "2559  Counting down the days to #sxsw plus strong Ca...   \n",
      "3950  Really enjoying the changes in Gowalla 3.0 for...   \n",
      "3962  #SXSW is just starting, #CTIA is around the co...   \n",
      "4897  Oh. My. God. The #SXSW app for iPad is pure, u...   \n",
      "5338  RT @mention ÷¼ GO BEYOND BORDERS! ÷_ {link} ...   \n",
      "5341  RT @mention ÷¼ Happy Woman's Day! Make love, ...   \n",
      "5881  RT @mention Google to Launch Major New Social ...   \n",
      "5882  RT @mention Google to Launch Major New Social ...   \n",
      "5883  RT @mention Google to Launch Major New Social ...   \n",
      "5884  RT @mention Google to Launch Major New Social ...   \n",
      "5885  RT @mention Google to Launch Major New Social ...   \n",
      "6296  RT @mention Marissa Mayer: Google Will Connect...   \n",
      "6297  RT @mention Marissa Mayer: Google Will Connect...   \n",
      "6298  RT @mention Marissa Mayer: Google Will Connect...   \n",
      "6299  RT @mention Marissa Mayer: Google Will Connect...   \n",
      "6300  RT @mention Marissa Mayer: Google Will Connect...   \n",
      "6546  RT @mention RT @mention Google to Launch Major...   \n",
      "8483  I just noticed DST is coming this weekend. How...   \n",
      "8747  Need to buy an iPad2 while I'm in Austin at #s...   \n",
      "\n",
      "     emotion_in_tweet_is_directed_at  \\\n",
      "468                            Apple   \n",
      "776                              NaN   \n",
      "2232                             NaN   \n",
      "2559                           Apple   \n",
      "3950                     Android App   \n",
      "3962                         Android   \n",
      "4897              iPad or iPhone App   \n",
      "5338                             NaN   \n",
      "5341                             NaN   \n",
      "5881                             NaN   \n",
      "5882                             NaN   \n",
      "5883                             NaN   \n",
      "5884                             NaN   \n",
      "5885                             NaN   \n",
      "6296                          Google   \n",
      "6297                             NaN   \n",
      "6298                          Google   \n",
      "6299                             NaN   \n",
      "6300                             NaN   \n",
      "6546                             NaN   \n",
      "8483                          iPhone   \n",
      "8747                            iPad   \n",
      "\n",
      "     is_there_an_emotion_directed_at_a_brand_or_product  \n",
      "468                                    Positive emotion  \n",
      "776                  No emotion toward brand or product  \n",
      "2232                 No emotion toward brand or product  \n",
      "2559                                   Positive emotion  \n",
      "3950                                   Positive emotion  \n",
      "3962                                   Positive emotion  \n",
      "4897                                   Positive emotion  \n",
      "5338                 No emotion toward brand or product  \n",
      "5341                 No emotion toward brand or product  \n",
      "5881                 No emotion toward brand or product  \n",
      "5882                 No emotion toward brand or product  \n",
      "5883                 No emotion toward brand or product  \n",
      "5884                 No emotion toward brand or product  \n",
      "5885                 No emotion toward brand or product  \n",
      "6296                                   Positive emotion  \n",
      "6297                 No emotion toward brand or product  \n",
      "6298                                   Positive emotion  \n",
      "6299                 No emotion toward brand or product  \n",
      "6300                 No emotion toward brand or product  \n",
      "6546                 No emotion toward brand or product  \n",
      "8483                                   Negative emotion  \n",
      "8747                                   Positive emotion  \n",
      "\n",
      "Data Types:\n",
      " tweet_text                                            object\n",
      "emotion_in_tweet_is_directed_at                       object\n",
      "is_there_an_emotion_directed_at_a_brand_or_product    object\n",
      "dtype: object\n",
      "\n",
      "Unique values in column 'tweet_text':\n",
      "['.@wesley83 I have a 3G iPhone. After 3 hrs tweeting at #RISE_Austin, it was dead!  I need to upgrade. Plugin stations at #SXSW.'\n",
      " \"@jessedee Know about @fludapp ? Awesome iPad/iPhone app that you'll likely appreciate for its design. Also, they're giving free Ts at #SXSW\"\n",
      " '@swonderlin Can not wait for #iPad 2 also. They should sale them down at #SXSW.'\n",
      " ...\n",
      " \"Google's Zeiger, a physician never reported potential AE. Yet FDA relies on physicians. &quot;We're operating w/out data.&quot; #sxsw #health2dev\"\n",
      " 'Some Verizon iPhone customers complained their time fell back an hour this weekend.  Of course they were the New Yorkers who attended #SXSW.'\n",
      " '\\x8cÏ¡\\x8eÏà\\x8aü_\\x8b\\x81Ê\\x8b\\x81Î\\x8b\\x81Ò\\x8b\\x81£\\x8b\\x81Á\\x8bââ\\x8b\\x81_\\x8b\\x81£\\x8b\\x81\\x8f\\x8bâ_\\x8bÛâRT @mention Google Tests \\x89ÛÏCheck-in Offers\\x89Û\\x9d At #SXSW {link}']\n",
      "\n",
      "Unique values in column 'emotion_in_tweet_is_directed_at':\n",
      "['iPhone' 'iPad or iPhone App' 'iPad' 'Google' nan 'Android' 'Apple'\n",
      " 'Android App' 'Other Google product or service'\n",
      " 'Other Apple product or service']\n",
      "\n",
      "Unique values in column 'is_there_an_emotion_directed_at_a_brand_or_product':\n",
      "['Negative emotion' 'Positive emotion'\n",
      " 'No emotion toward brand or product' \"I can't tell\"]\n",
      "\n",
      "Standardized unique values in column 'tweet_text':\n",
      "['.@wesley83 i have a 3g iphone. after 3 hrs tweeting at #rise_austin, it was dead!  i need to upgrade. plugin stations at #sxsw.'\n",
      " \"@jessedee know about @fludapp ? awesome ipad/iphone app that you'll likely appreciate for its design. also, they're giving free ts at #sxsw\"\n",
      " '@swonderlin can not wait for #ipad 2 also. they should sale them down at #sxsw.'\n",
      " ...\n",
      " \"google's zeiger, a physician never reported potential ae. yet fda relies on physicians. &quot;we're operating w/out data.&quot; #sxsw #health2dev\"\n",
      " 'some verizon iphone customers complained their time fell back an hour this weekend.  of course they were the new yorkers who attended #sxsw.'\n",
      " '\\x8cï¡\\x8eïà\\x8aü_\\x8b\\x81ê\\x8b\\x81î\\x8b\\x81ò\\x8b\\x81£\\x8b\\x81á\\x8bââ\\x8b\\x81_\\x8b\\x81£\\x8b\\x81\\x8f\\x8bâ_\\x8bûârt @mention google tests \\x89ûïcheck-in offers\\x89û\\x9d at #sxsw {link}']\n",
      "\n",
      "Standardized unique values in column 'emotion_in_tweet_is_directed_at':\n",
      "['iphone' 'ipad or iphone app' 'ipad' 'google' nan 'android' 'apple'\n",
      " 'android app' 'other google product or service'\n",
      " 'other apple product or service']\n",
      "\n",
      "Standardized unique values in column 'is_there_an_emotion_directed_at_a_brand_or_product':\n",
      "['negative emotion' 'positive emotion'\n",
      " 'no emotion toward brand or product' \"i can't tell\"]\n"
     ]
    }
   ],
   "source": [
    "# 1. Check for Missing Values\n",
    "# Count of missing values for each column\n",
    "missing_values = df.isnull().sum()\n",
    "print(\"Missing Values:\\n\", missing_values)\n",
    "\n",
    "# Percentage of missing values for each column\n",
    "missing_percentage = (df.isnull().sum() / len(df)) * 100\n",
    "print(\"\\nPercentage of Missing Values:\\n\", missing_percentage)\n",
    "\n",
    "# 2. Check for Duplicates\n",
    "# Count the number of duplicate rows\n",
    "duplicate_rows = df.duplicated().sum()\n",
    "print(\"\\nNumber of Duplicate Rows:\", duplicate_rows)\n",
    "\n",
    "# Display duplicate rows if any\n",
    "if duplicate_rows > 0:\n",
    "    print(\"\\nDuplicate Rows:\\n\", df[df.duplicated()])\n",
    "\n",
    "# 3. Check for Inconsistencies\n",
    "# Check for data types of each column\n",
    "print(\"\\nData Types:\\n\", df.dtypes)\n",
    "\n",
    "# Identify unique values for categorical columns to spot inconsistencies\n",
    "for column in df.select_dtypes(include=['object']).columns:\n",
    "    print(f\"\\nUnique values in column '{column}':\")\n",
    "    print(df[column].unique())\n",
    "\n",
    "# Checking for inconsistent capitalization in categorical data\n",
    "for column in df.select_dtypes(include=['object']).columns:\n",
    "    inconsistent_values = df[column].apply(lambda x: x.lower() if isinstance(x, str) else x).unique()\n",
    "    print(f\"\\nStandardized unique values in column '{column}':\")\n",
    "    print(inconsistent_values)"
   ]
  },
  {
   "cell_type": "markdown",
   "metadata": {},
   "source": [
    "#### Understanding Data quality."
   ]
  },
  {
   "cell_type": "code",
   "execution_count": 10,
   "metadata": {},
   "outputs": [
    {
     "name": "stdout",
     "output_type": "stream",
     "text": [
      "Number of NaNs in each column:\n",
      "tweet_text                                               1\n",
      "emotion_in_tweet_is_directed_at                       5802\n",
      "is_there_an_emotion_directed_at_a_brand_or_product       0\n",
      "dtype: int64\n"
     ]
    }
   ],
   "source": [
    "# Check for NaNs\n",
    "nan_count = df.isna().sum()\n",
    "print(\"Number of NaNs in each column:\")\n",
    "print(nan_count)"
   ]
  },
  {
   "cell_type": "markdown",
   "metadata": {},
   "source": [
    "### Cleaning each column"
   ]
  },
  {
   "cell_type": "code",
   "execution_count": 11,
   "metadata": {},
   "outputs": [
    {
     "name": "stdout",
     "output_type": "stream",
     "text": [
      "<class 'pandas.core.frame.DataFrame'>\n",
      "Int64Index: 9092 entries, 0 to 9092\n",
      "Data columns (total 3 columns):\n",
      " #   Column                                              Non-Null Count  Dtype \n",
      "---  ------                                              --------------  ----- \n",
      " 0   tweet_text                                          9092 non-null   object\n",
      " 1   emotion_in_tweet_is_directed_at                     3291 non-null   object\n",
      " 2   is_there_an_emotion_directed_at_a_brand_or_product  9092 non-null   object\n",
      "dtypes: object(3)\n",
      "memory usage: 284.1+ KB\n",
      "None\n"
     ]
    }
   ],
   "source": [
    "# Drop rows where 'tweet_text' is missing\n",
    "df = df.dropna(subset=['tweet_text'])\n",
    "\n",
    "# Verify the dataset after dropping missing values\n",
    "print(df.info())\n"
   ]
  },
  {
   "cell_type": "code",
   "execution_count": 12,
   "metadata": {},
   "outputs": [
    {
     "name": "stderr",
     "output_type": "stream",
     "text": [
      "<ipython-input-12-7c201dfb13b2>:12: SettingWithCopyWarning: \n",
      "A value is trying to be set on a copy of a slice from a DataFrame.\n",
      "Try using .loc[row_indexer,col_indexer] = value instead\n",
      "\n",
      "See the caveats in the documentation: https://pandas.pydata.org/pandas-docs/stable/user_guide/indexing.html#returning-a-view-versus-a-copy\n",
      "  df['cleaned_tweet_text'] = df['tweet_text'].apply(clean_tweet)\n"
     ]
    },
    {
     "data": {
      "text/html": [
       "<div>\n",
       "<style scoped>\n",
       "    .dataframe tbody tr th:only-of-type {\n",
       "        vertical-align: middle;\n",
       "    }\n",
       "\n",
       "    .dataframe tbody tr th {\n",
       "        vertical-align: top;\n",
       "    }\n",
       "\n",
       "    .dataframe thead th {\n",
       "        text-align: right;\n",
       "    }\n",
       "</style>\n",
       "<table border=\"1\" class=\"dataframe\">\n",
       "  <thead>\n",
       "    <tr style=\"text-align: right;\">\n",
       "      <th></th>\n",
       "      <th>tweet_text</th>\n",
       "      <th>cleaned_tweet_text</th>\n",
       "    </tr>\n",
       "  </thead>\n",
       "  <tbody>\n",
       "    <tr>\n",
       "      <th>0</th>\n",
       "      <td>.@wesley83 I have a 3G iPhone. After 3 hrs twe...</td>\n",
       "      <td>i have a g iphone after  hrs tweeting at  it w...</td>\n",
       "    </tr>\n",
       "    <tr>\n",
       "      <th>1</th>\n",
       "      <td>@jessedee Know about @fludapp ? Awesome iPad/i...</td>\n",
       "      <td>know about   awesome ipadiphone app that youll...</td>\n",
       "    </tr>\n",
       "    <tr>\n",
       "      <th>2</th>\n",
       "      <td>@swonderlin Can not wait for #iPad 2 also. The...</td>\n",
       "      <td>can not wait for   also they should sale them ...</td>\n",
       "    </tr>\n",
       "    <tr>\n",
       "      <th>3</th>\n",
       "      <td>@sxsw I hope this year's festival isn't as cra...</td>\n",
       "      <td>i hope this years festival isnt as crashy as t...</td>\n",
       "    </tr>\n",
       "    <tr>\n",
       "      <th>4</th>\n",
       "      <td>@sxtxstate great stuff on Fri #SXSW: Marissa M...</td>\n",
       "      <td>great stuff on fri  marissa mayer google tim o...</td>\n",
       "    </tr>\n",
       "  </tbody>\n",
       "</table>\n",
       "</div>"
      ],
      "text/plain": [
       "                                          tweet_text  \\\n",
       "0  .@wesley83 I have a 3G iPhone. After 3 hrs twe...   \n",
       "1  @jessedee Know about @fludapp ? Awesome iPad/i...   \n",
       "2  @swonderlin Can not wait for #iPad 2 also. The...   \n",
       "3  @sxsw I hope this year's festival isn't as cra...   \n",
       "4  @sxtxstate great stuff on Fri #SXSW: Marissa M...   \n",
       "\n",
       "                                  cleaned_tweet_text  \n",
       "0  i have a g iphone after  hrs tweeting at  it w...  \n",
       "1  know about   awesome ipadiphone app that youll...  \n",
       "2  can not wait for   also they should sale them ...  \n",
       "3  i hope this years festival isnt as crashy as t...  \n",
       "4  great stuff on fri  marissa mayer google tim o...  "
      ]
     },
     "execution_count": 12,
     "metadata": {},
     "output_type": "execute_result"
    }
   ],
   "source": [
    "import re\n",
    "\n",
    "# Clean the Tweet text\n",
    "def clean_tweet(text):\n",
    "    text = re.sub(r\"http\\S+|www\\S+|https\\S+\", \"\", text, flags=re.MULTILINE)  # Remove URLs\n",
    "    text = re.sub(r\"@\\w+|#\\w+\", \"\", text)  # Remove mentions and hashtags\n",
    "    text = re.sub(r\"[^A-Za-z\\s]\", \"\", text)  # Remove special characters\n",
    "    text = text.lower().strip()  # Convert to lowercase and remove leading/trailing spaces\n",
    "    return text\n",
    "\n",
    "# Apply the cleaning function\n",
    "df['cleaned_tweet_text'] = df['tweet_text'].apply(clean_tweet)\n",
    "\n",
    "# Display the cleaned Tweet text\n",
    "df[['tweet_text', 'cleaned_tweet_text']].head()\n"
   ]
  },
  {
   "cell_type": "code",
   "execution_count": 13,
   "metadata": {},
   "outputs": [
    {
     "data": {
      "text/html": [
       "<div>\n",
       "<style scoped>\n",
       "    .dataframe tbody tr th:only-of-type {\n",
       "        vertical-align: middle;\n",
       "    }\n",
       "\n",
       "    .dataframe tbody tr th {\n",
       "        vertical-align: top;\n",
       "    }\n",
       "\n",
       "    .dataframe thead th {\n",
       "        text-align: right;\n",
       "    }\n",
       "</style>\n",
       "<table border=\"1\" class=\"dataframe\">\n",
       "  <thead>\n",
       "    <tr style=\"text-align: right;\">\n",
       "      <th></th>\n",
       "      <th>emotion_in_tweet_is_directed_at</th>\n",
       "    </tr>\n",
       "  </thead>\n",
       "  <tbody>\n",
       "    <tr>\n",
       "      <th>0</th>\n",
       "      <td>iphone</td>\n",
       "    </tr>\n",
       "    <tr>\n",
       "      <th>1</th>\n",
       "      <td>ipad or iphone app</td>\n",
       "    </tr>\n",
       "    <tr>\n",
       "      <th>2</th>\n",
       "      <td>ipad</td>\n",
       "    </tr>\n",
       "    <tr>\n",
       "      <th>4</th>\n",
       "      <td>google</td>\n",
       "    </tr>\n",
       "    <tr>\n",
       "      <th>7</th>\n",
       "      <td>android</td>\n",
       "    </tr>\n",
       "    <tr>\n",
       "      <th>9</th>\n",
       "      <td>apple</td>\n",
       "    </tr>\n",
       "    <tr>\n",
       "      <th>11</th>\n",
       "      <td>android app</td>\n",
       "    </tr>\n",
       "    <tr>\n",
       "      <th>13</th>\n",
       "      <td>other google product or service</td>\n",
       "    </tr>\n",
       "    <tr>\n",
       "      <th>703</th>\n",
       "      <td>other apple product or service</td>\n",
       "    </tr>\n",
       "  </tbody>\n",
       "</table>\n",
       "</div>"
      ],
      "text/plain": [
       "     emotion_in_tweet_is_directed_at\n",
       "0                             iphone\n",
       "1                 ipad or iphone app\n",
       "2                               ipad\n",
       "4                             google\n",
       "7                            android\n",
       "9                              apple\n",
       "11                       android app\n",
       "13   other google product or service\n",
       "703   other apple product or service"
      ]
     },
     "execution_count": 13,
     "metadata": {},
     "output_type": "execute_result"
    }
   ],
   "source": [
    "# Remove rows with missing or 'unknown' values in 'emotion_in_tweet_is_directed_at'\n",
    "df = df[df['emotion_in_tweet_is_directed_at'].notna()]  # Remove NaN values\n",
    "df = df[df['emotion_in_tweet_is_directed_at'].str.lower() != 'unknown']  # Remove 'unknown'\n",
    "\n",
    "# Standardize the text in 'emotion_in_tweet_is_directed_at'\n",
    "df['emotion_in_tweet_is_directed_at'] = df['emotion_in_tweet_is_directed_at'].str.lower().str.strip()\n",
    "\n",
    "# Display the cleaned 'emotion_in_tweet_is_directed_at' column\n",
    "df[['emotion_in_tweet_is_directed_at']].drop_duplicates().head(10)\n"
   ]
  },
  {
   "cell_type": "code",
   "execution_count": 14,
   "metadata": {},
   "outputs": [
    {
     "data": {
      "text/plain": [
       "0       negative emotion\n",
       "1       positive emotion\n",
       "2       positive emotion\n",
       "3       negative emotion\n",
       "4       positive emotion\n",
       "              ...       \n",
       "9077    positive emotion\n",
       "9079    positive emotion\n",
       "9080    negative emotion\n",
       "9085    positive emotion\n",
       "9088    positive emotion\n",
       "Name: is_there_an_emotion_directed_at_a_brand_or_product, Length: 3291, dtype: object"
      ]
     },
     "execution_count": 14,
     "metadata": {},
     "output_type": "execute_result"
    }
   ],
   "source": [
    "# Convert values in 'is_there_an_emotion_directed_at_a_brand_or_product' to lowercase and fix inconsistencies\n",
    "df['is_there_an_emotion_directed_at_a_brand_or_product'] = df['is_there_an_emotion_directed_at_a_brand_or_product'].str.lower()\n",
    "df.is_there_an_emotion_directed_at_a_brand_or_product\n"
   ]
  },
  {
   "cell_type": "markdown",
   "metadata": {},
   "source": [
    "#### Verifying the changes"
   ]
  },
  {
   "cell_type": "code",
   "execution_count": 15,
   "metadata": {},
   "outputs": [
    {
     "name": "stdout",
     "output_type": "stream",
     "text": [
      "['negative emotion' 'positive emotion'\n",
      " 'no emotion toward brand or product' \"i can't tell\"]\n"
     ]
    }
   ],
   "source": [
    "\n",
    "# Verify unique values after standardization\n",
    "print(df['is_there_an_emotion_directed_at_a_brand_or_product'].unique())"
   ]
  },
  {
   "cell_type": "markdown",
   "metadata": {},
   "source": [
    "# EDA without Sentiment labels\n",
    "\n",
    "The goal of performing EDA before engineering the sentiment labels is to better understand the underlying structure of the data and generate insights without being influenced by the target labels. This will allow us to build a more informed model later on"
   ]
  },
  {
   "cell_type": "code",
   "execution_count": 16,
   "metadata": {},
   "outputs": [],
   "source": [
    "import pandas as pd\n",
    "import matplotlib.pyplot as plt\n",
    "import seaborn as sns\n",
    "from collections import Counter\n",
    "import re"
   ]
  },
  {
   "cell_type": "markdown",
   "metadata": {},
   "source": [
    "Step 1: Word Frequency Analysis\n",
    "We will calculate the frequency of words used across all Tweets."
   ]
  },
  {
   "cell_type": "code",
   "execution_count": 17,
   "metadata": {},
   "outputs": [
    {
     "name": "stdout",
     "output_type": "stream",
     "text": [
      "Most common words: [('sxsw', 3468), ('mention', 2278), ('the', 1806), ('to', 1324), ('link', 1210), ('ipad', 1160), ('at', 1088), ('apple', 1013), ('rt', 980), ('for', 962), ('a', 896), ('google', 794), ('i', 760), ('is', 748), ('of', 721), ('in', 710), ('iphone', 659), ('and', 626), ('quot', 596), ('store', 563)]\n"
     ]
    }
   ],
   "source": [
    "# Combine all tweet texts into a single string\n",
    "all_words = ' '.join(df['tweet_text'].astype(str)).lower()\n",
    "# Tokenize and count word frequency\n",
    "word_list = re.findall(r'\\b\\w+\\b', all_words)\n",
    "word_freq = Counter(word_list)\n",
    "\n",
    "# Most common words\n",
    "common_words = word_freq.most_common(20)\n",
    "print(\"Most common words:\", common_words)"
   ]
  },
  {
   "cell_type": "markdown",
   "metadata": {},
   "source": [
    "Step 2: Tweet Length Analysis\n",
    "We'll create features for the length of each Tweet in terms of characters and words and plot the distribution."
   ]
  },
  {
   "cell_type": "code",
   "execution_count": 18,
   "metadata": {},
   "outputs": [
    {
     "data": {
      "image/png": "[encoded data removed]",
      "text/plain": [
       "<Figure size 864x432 with 1 Axes>"
      ]
     },
     "metadata": {
      "needs_background": "light"
     },
     "output_type": "display_data"
    },
    {
     "data": {
      "image/png": "[encoded data removed]",
      "text/plain": [
       "<Figure size 864x432 with 1 Axes>"
      ]
     },
     "metadata": {
      "needs_background": "light"
     },
     "output_type": "display_data"
    }
   ],
   "source": [
    "df['tweet_length'] = df['tweet_text'].str.len()  # Character count\n",
    "df['tweet_length_words'] = df['tweet_text'].str.split().str.len()  # Word count\n",
    "\n",
    "# Plotting the distribution of tweet lengths\n",
    "plt.figure(figsize=(12, 6))\n",
    "sns.histplot(df['tweet_length'], bins=30, kde=True)\n",
    "plt.title('Distribution of Tweet Lengths (in Characters)')\n",
    "plt.xlabel('Tweet Length (Characters)')\n",
    "plt.ylabel('Frequency')\n",
    "plt.show()\n",
    "\n",
    "plt.figure(figsize=(12, 6))\n",
    "sns.histplot(df['tweet_length_words'], bins=30, kde=True)\n",
    "plt.title('Distribution of Tweet Lengths (in Words)')\n",
    "plt.xlabel('Tweet Length (Words)')\n",
    "plt.ylabel('Frequency')\n",
    "plt.show()"
   ]
  },
  {
   "cell_type": "markdown",
   "metadata": {},
   "source": [
    "Step 3: Directed Brand/Product Analysis\n",
    "We'll find out which products or brands are mentioned most frequently"
   ]
  },
  {
   "cell_type": "code",
   "execution_count": 19,
   "metadata": {},
   "outputs": [
    {
     "name": "stdout",
     "output_type": "stream",
     "text": [
      "Brand/Product Frequency Count:\n",
      "ipad                               946\n",
      "apple                              661\n",
      "ipad or iphone app                 470\n",
      "google                             430\n",
      "iphone                             297\n",
      "other google product or service    293\n",
      "android app                         81\n",
      "android                             78\n",
      "other apple product or service      35\n",
      "Name: emotion_in_tweet_is_directed_at, dtype: int64\n"
     ]
    },
    {
     "data": {
      "image/png": "[encoded data removed]",
      "text/plain": [
       "<Figure size 864x432 with 1 Axes>"
      ]
     },
     "metadata": {
      "needs_background": "light"
     },
     "output_type": "display_data"
    }
   ],
   "source": [
    "brand_counts = df['emotion_in_tweet_is_directed_at'].value_counts()\n",
    "print(\"Brand/Product Frequency Count:\")\n",
    "print(brand_counts)\n",
    "\n",
    "# Bar chart for brand mentions\n",
    "plt.figure(figsize=(12, 6))\n",
    "sns.barplot(x=brand_counts.index, y=brand_counts.values)\n",
    "plt.title('Frequency of Brands/Products Mentioned')\n",
    "plt.xlabel('Brands/Products')\n",
    "plt.ylabel('Frequency')\n",
    "plt.xticks(rotation=45)\n",
    "plt.show()"
   ]
  },
  {
   "cell_type": "markdown",
   "metadata": {},
   "source": [
    "Step 4: Hashtags and Mentions Analysis\n",
    "We'll extract hashtags and mentions and analyze their frequency."
   ]
  },
  {
   "cell_type": "code",
   "execution_count": 20,
   "metadata": {},
   "outputs": [
    {
     "name": "stdout",
     "output_type": "stream",
     "text": [
      "Most common hashtags: [('#sxsw', 1703), ('#SXSW', 1527), ('#Apple', 94), ('#apple', 83), ('#iPad', 81), ('#iPad2', 65), ('#SxSW', 61), ('#iPhone', 60), ('#sxswi', 59), ('#ipad2', 56)]\n",
      "Most common mentions: [('@mention', 2272), ('@madebymany', 5), ('@mentionR', 2), ('@wesley83', 1), ('@jessedee', 1), ('@fludapp', 1), ('@swonderlin', 1), ('@sxsw', 1), ('@sxtxstate', 1), ('@thenextweb', 1)]\n"
     ]
    }
   ],
   "source": [
    "# Extract hashtags and mentions\n",
    "df['hashtags'] = df['tweet_text'].apply(lambda x: re.findall(r'#\\w+', x))\n",
    "df['mentions'] = df['tweet_text'].apply(lambda x: re.findall(r'@\\w+', x))\n",
    "\n",
    "# Flatten the lists and count frequency\n",
    "all_hashtags = [item for sublist in df['hashtags'] for item in sublist]\n",
    "all_mentions = [item for sublist in df['mentions'] for item in sublist]\n",
    "hashtag_freq = Counter(all_hashtags)\n",
    "mention_freq = Counter(all_mentions)\n",
    "\n",
    "# Print the most common hashtags and mentions\n",
    "print(\"Most common hashtags:\", hashtag_freq.most_common(10))\n",
    "print(\"Most common mentions:\", mention_freq.most_common(10))"
   ]
  },
  {
   "cell_type": "markdown",
   "metadata": {},
   "source": [
    "Step 5: Keyword Analysis\n",
    "We'll check for the presence of specific positive or negative keywords and visualize their occurrences."
   ]
  },
  {
   "cell_type": "code",
   "execution_count": 21,
   "metadata": {},
   "outputs": [
    {
     "data": {
      "image/png": "[encoded data removed]",
      "text/plain": [
       "<Figure size 864x432 with 1 Axes>"
      ]
     },
     "metadata": {
      "needs_background": "light"
     },
     "output_type": "display_data"
    }
   ],
   "source": [
    "# Define keywords\n",
    "positive_keywords = ['great', 'love', 'excellent', 'happy', 'best']\n",
    "negative_keywords = ['bad', 'hate', 'terrible', 'awful', 'worst']\n",
    "\n",
    "# Create binary features for keywords\n",
    "for keyword in positive_keywords + negative_keywords:\n",
    "    df[f'contains_{keyword}'] = df['tweet_text'].str.contains(keyword, case=False, na=False).astype(int)\n",
    "\n",
    "# Count occurrences of keywords\n",
    "positive_counts = df[[f'contains_{keyword}' for keyword in positive_keywords]].sum()\n",
    "negative_counts = df[[f'contains_{keyword}' for keyword in negative_keywords]].sum()\n",
    "\n",
    "# Visualization of keyword presence\n",
    "plt.figure(figsize=(12, 6))\n",
    "sns.barplot(x=positive_counts.index, y=positive_counts.values, color='green', label='Positive')\n",
    "sns.barplot(x=negative_counts.index, y=negative_counts.values, color='red', label='Negative')\n",
    "plt.title('Keyword Presence in Tweets')\n",
    "plt.ylabel('Frequency')\n",
    "plt.xticks(rotation=45)\n",
    "plt.legend()\n",
    "plt.show()"
   ]
  },
  {
   "cell_type": "markdown",
   "metadata": {},
   "source": [
    "Step : Correlation Analysis\n",
    "We'll analyze the correlation between numeric features if applicable."
   ]
  },
  {
   "cell_type": "code",
   "execution_count": 22,
   "metadata": {},
   "outputs": [
    {
     "data": {
      "image/png": "[encoded data removed]",
      "text/plain": [
       "<Figure size 576x432 with 2 Axes>"
      ]
     },
     "metadata": {
      "needs_background": "light"
     },
     "output_type": "display_data"
    }
   ],
   "source": [
    "\n",
    "correlation_matrix = df[['tweet_length', 'tweet_length_words']].corr()\n",
    "plt.figure(figsize=(8, 6))\n",
    "sns.heatmap(correlation_matrix, annot=True, fmt='.2f', cmap='coolwarm')\n",
    "plt.title('Correlation Matrix')\n",
    "plt.show()"
   ]
  },
  {
   "cell_type": "markdown",
   "metadata": {},
   "source": [
    "Step 7: Feature Engineering\n",
    "We'll calculate features for tweet lengths, keyword presence, and engagement.\n",
    "\n"
   ]
  },
  {
   "cell_type": "code",
   "execution_count": 23,
   "metadata": {},
   "outputs": [],
   "source": [
    "\n",
    "if 'retweets' in df.columns and 'likes' in df.columns:\n",
    "    df['engagement'] = df['retweets'] + df['likes']\n",
    "    print(df[['retweets', 'likes', 'engagement']].head(10))"
   ]
  },
  {
   "cell_type": "markdown",
   "metadata": {},
   "source": [
    "# 5. Model preparation after EDA"
   ]
  },
  {
   "cell_type": "code",
   "execution_count": 24,
   "metadata": {},
   "outputs": [],
   "source": [
    "import pandas as pd\n",
    "from sklearn.model_selection import train_test_split\n",
    "from nltk.corpus import stopwords\n",
    "from nltk.stem import PorterStemmer\n",
    "import nltk\n",
    "import re"
   ]
  },
  {
   "cell_type": "markdown",
   "metadata": {},
   "source": [
    "### Creating Target labels\n",
    "\n",
    "In a machine learning context, the target label is typically the output variable (dependent variable) that the model is trained to predict. \n",
    "\n",
    " In a sentiment analysis problem, the target variable might be the sentiment category (positive, negative, neutral) of a given text which in our dataset we have the column is_there_an_emotion_directed_at_a_brand_or_product, having these features, therefore this will be our target label. "
   ]
  },
  {
   "cell_type": "code",
   "execution_count": 25,
   "metadata": {},
   "outputs": [
    {
     "name": "stdout",
     "output_type": "stream",
     "text": [
      "   is_there_an_emotion_directed_at_a_brand_or_product  sentiment\n",
      "0                                    negative emotion       -1.0\n",
      "1                                    positive emotion        1.0\n",
      "2                                    positive emotion        1.0\n",
      "3                                    negative emotion       -1.0\n",
      "4                                    positive emotion        1.0\n",
      "7                                    positive emotion        1.0\n",
      "8                                    positive emotion        1.0\n",
      "9                                    positive emotion        1.0\n",
      "10                                   positive emotion        1.0\n",
      "11                                   positive emotion        1.0\n"
     ]
    }
   ],
   "source": [
    "df['sentiment'] = df['is_there_an_emotion_directed_at_a_brand_or_product'].map({\n",
    "    'positive emotion': 1,\n",
    "    'negative emotion': -1,\n",
    "    'no emotion toward brand or product': 0\n",
    "})\n",
    "print(df[['is_there_an_emotion_directed_at_a_brand_or_product', 'sentiment']].head(10))"
   ]
  },
  {
   "cell_type": "code",
   "execution_count": 26,
   "metadata": {},
   "outputs": [
    {
     "name": "stdout",
     "output_type": "stream",
     "text": [
      " 1.0    2672\n",
      "-1.0     519\n",
      " 0.0      91\n",
      "Name: sentiment, dtype: int64\n"
     ]
    }
   ],
   "source": [
    "print(df['sentiment'].value_counts())\n"
   ]
  },
  {
   "cell_type": "code",
   "execution_count": 27,
   "metadata": {},
   "outputs": [
    {
     "name": "stdout",
     "output_type": "stream",
     "text": [
      "['negative emotion' 'positive emotion'\n",
      " 'no emotion toward brand or product' \"i can't tell\"]\n"
     ]
    }
   ],
   "source": [
    "unique_labels = df['is_there_an_emotion_directed_at_a_brand_or_product'].unique()\n",
    "print(unique_labels)\n"
   ]
  },
  {
   "cell_type": "markdown",
   "metadata": {},
   "source": [
    "### Distribution of target labels"
   ]
  },
  {
   "cell_type": "code",
   "execution_count": 28,
   "metadata": {},
   "outputs": [
    {
     "data": {
      "image/png": "[encoded data removed]",
      "text/plain": [
       "<Figure size 720x432 with 1 Axes>"
      ]
     },
     "metadata": {},
     "output_type": "display_data"
    }
   ],
   "source": [
    "import matplotlib.pyplot as plt\n",
    "import seaborn as sns\n",
    "\n",
    "# Set the style for seaborn\n",
    "sns.set(style='whitegrid')\n",
    "\n",
    "# Count the occurrences of each sentiment label\n",
    "sentiment_counts = df['is_there_an_emotion_directed_at_a_brand_or_product'].value_counts()\n",
    "\n",
    "# Create a bar plot for sentiment distribution\n",
    "plt.figure(figsize=(10, 6))\n",
    "sns.barplot(x=sentiment_counts.index, y=sentiment_counts.values, palette='viridis')\n",
    "plt.title('Distribution of Tweet Sentiments')\n",
    "plt.xlabel('Sentiment')\n",
    "plt.ylabel('Number of Tweets')\n",
    "plt.xticks(rotation=45)\n",
    "plt.show()"
   ]
  },
  {
   "cell_type": "markdown",
   "metadata": {},
   "source": [
    "# 6. Binary Classifier\n",
    "\n",
    "### Filtering for Binary classification\n",
    "\n",
    "Here we will filter to use only positive and negative emotions"
   ]
  },
  {
   "cell_type": "code",
   "execution_count": 29,
   "metadata": {},
   "outputs": [],
   "source": [
    "df_binary = df[df['sentiment'].isin(['positive', 'negative'])]\n"
   ]
  },
  {
   "cell_type": "markdown",
   "metadata": {},
   "source": [
    "## Text Preprocessing"
   ]
  },
  {
   "cell_type": "code",
   "execution_count": 30,
   "metadata": {},
   "outputs": [],
   "source": [
    "from nltk.tokenize import word_tokenize\n",
    "from nltk.corpus import stopwords\n",
    "from nltk.stem import WordNetLemmatizer\n",
    "import nltk"
   ]
  },
  {
   "cell_type": "markdown",
   "metadata": {},
   "source": [
    "Tokenization: Break the cleaned tweets into individual words.\n",
    "\n",
    "Lowercasing: Convert all text to lowercase to ensure uniformity.\n",
    "\n",
    "Removing Stopwords: Remove common words that may not contribute to sentiment (e.g., \"and\", \"the\", \"is\").\n",
    "\n",
    "Stemming/Lemmatization: Normalize words to their base or root forms"
   ]
  },
  {
   "cell_type": "code",
   "execution_count": 31,
   "metadata": {},
   "outputs": [
    {
     "name": "stderr",
     "output_type": "stream",
     "text": [
      "[nltk_data] Downloading package punkt to\n",
      "[nltk_data]     C:\\Users\\BENNLANGAT\\AppData\\Roaming\\nltk_data...\n",
      "[nltk_data]   Package punkt is already up-to-date!\n",
      "[nltk_data] Downloading package stopwords to\n",
      "[nltk_data]     C:\\Users\\BENNLANGAT\\AppData\\Roaming\\nltk_data...\n",
      "[nltk_data]   Package stopwords is already up-to-date!\n",
      "[nltk_data] Downloading package wordnet to\n",
      "[nltk_data]     C:\\Users\\BENNLANGAT\\AppData\\Roaming\\nltk_data...\n",
      "[nltk_data]   Package wordnet is already up-to-date!\n"
     ]
    }
   ],
   "source": [
    "# Download required NLTK resources \n",
    "nltk.download('punkt')\n",
    "nltk.download('stopwords')\n",
    "nltk.download('wordnet')\n",
    "\n",
    "def preprocess_text(text):\n",
    "    text = text.lower()  # Convert to lowercase\n",
    "    text = re.sub(r'http\\S+|www\\S+|https\\S+', '', text, flags=re.MULTILINE)  # Remove URLs\n",
    "    text = re.sub(r'\\@\\w+|\\#', '', text)  # Remove mentions and hashtags\n",
    "    text = re.sub(r'[^a-zA-Z\\s]', '', text)  # Remove special characters\n",
    "    return text\n",
    "\n",
    "df_binary['tweet_text'] = df_binary['tweet_text'].apply(preprocess_text)\n"
   ]
  },
  {
   "cell_type": "markdown",
   "metadata": {},
   "source": [
    "## Train-test split\n",
    "\n",
    "Divides data into training and testing sets to ensure the model can generalize to new data and prevents overfitting."
   ]
  },
  {
   "cell_type": "code",
   "execution_count": 32,
   "metadata": {},
   "outputs": [
    {
     "name": "stdout",
     "output_type": "stream",
     "text": [
      "9\n"
     ]
    }
   ],
   "source": [
    "print(df['sentiment'].isna().sum())"
   ]
  },
  {
   "cell_type": "code",
   "execution_count": 33,
   "metadata": {},
   "outputs": [],
   "source": [
    "df = df.dropna(subset=['sentiment'])\n"
   ]
  },
  {
   "cell_type": "code",
   "execution_count": 34,
   "metadata": {},
   "outputs": [
    {
     "name": "stdout",
     "output_type": "stream",
     "text": [
      "0\n"
     ]
    }
   ],
   "source": [
    "print(df['sentiment'].isna().sum())"
   ]
  },
  {
   "cell_type": "code",
   "execution_count": 35,
   "metadata": {},
   "outputs": [],
   "source": [
    "X_train, X_test, y_train, y_test = train_test_split(\n",
    "    df['tweet_text'], \n",
    "    df['sentiment'], \n",
    "    test_size=0.2, \n",
    "    random_state=42, \n",
    "    stratify=df['sentiment']\n",
    ")\n"
   ]
  },
  {
   "cell_type": "markdown",
   "metadata": {},
   "source": [
    "## Vectorization\n",
    "\n",
    " Converts text into numerical form, making it compatible with machine learning models, while also capturing the relationships and frequency of words in the text"
   ]
  },
  {
   "cell_type": "code",
   "execution_count": 36,
   "metadata": {},
   "outputs": [],
   "source": [
    "from sklearn.feature_extraction.text import TfidfVectorizer\n",
    "\n",
    "tfidf_vectorizer = TfidfVectorizer(stop_words='english')\n",
    "X_train_tfidf = tfidf_vectorizer.fit_transform(X_train)\n",
    "X_test_tfidf = tfidf_vectorizer.transform(X_test)\n"
   ]
  },
  {
   "cell_type": "markdown",
   "metadata": {},
   "source": [
    "# 7.  Modeling"
   ]
  },
  {
   "cell_type": "code",
   "execution_count": 37,
   "metadata": {},
   "outputs": [],
   "source": [
    "import pandas as pd\n",
    "import numpy as np\n",
    "from sklearn.model_selection import train_test_split\n",
    "from sklearn.feature_extraction.text import CountVectorizer\n",
    "from sklearn.linear_model import LogisticRegression\n",
    "from sklearn.metrics import accuracy_score, precision_score, recall_score, f1_score, classification_report\n",
    "from sklearn.metrics import accuracy_score, confusion_matrix, classification_report\n"
   ]
  },
  {
   "cell_type": "markdown",
   "metadata": {},
   "source": [
    "### Baseline model ( Logistic regression)\n",
    "\n",
    "We will start by modeling a baseline model with Binary classifier."
   ]
  },
  {
   "cell_type": "code",
   "execution_count": 38,
   "metadata": {},
   "outputs": [
    {
     "data": {
      "text/plain": [
       "LogisticRegression()"
      ]
     },
     "execution_count": 38,
     "metadata": {},
     "output_type": "execute_result"
    }
   ],
   "source": [
    "model = LogisticRegression()\n",
    "model.fit(X_train_tfidf, y_train)\n"
   ]
  },
  {
   "cell_type": "code",
   "execution_count": 39,
   "metadata": {},
   "outputs": [],
   "source": [
    "y_pred = model.predict(X_test_tfidf)\n"
   ]
  },
  {
   "cell_type": "code",
   "execution_count": 40,
   "metadata": {},
   "outputs": [
    {
     "name": "stdout",
     "output_type": "stream",
     "text": [
      "Accuracy: 0.8447\n",
      "Confusion Matrix:\n",
      "[[ 21   0  83]\n",
      " [  2   0  16]\n",
      " [  1   0 534]]\n",
      "Classification Report:\n",
      "              precision    recall  f1-score   support\n",
      "\n",
      "        -1.0       0.88      0.20      0.33       104\n",
      "         0.0       0.00      0.00      0.00        18\n",
      "         1.0       0.84      1.00      0.91       535\n",
      "\n",
      "    accuracy                           0.84       657\n",
      "   macro avg       0.57      0.40      0.41       657\n",
      "weighted avg       0.83      0.84      0.80       657\n",
      "\n"
     ]
    },
    {
     "name": "stderr",
     "output_type": "stream",
     "text": [
      "C:\\Users\\BENNLANGAT\\anaconda3\\envs\\learn-env\\lib\\site-packages\\sklearn\\metrics\\_classification.py:1221: UndefinedMetricWarning: Precision and F-score are ill-defined and being set to 0.0 in labels with no predicted samples. Use `zero_division` parameter to control this behavior.\n",
      "  _warn_prf(average, modifier, msg_start, len(result))\n"
     ]
    },
    {
     "ename": "TypeError",
     "evalue": "string indices must be integers",
     "output_type": "error",
     "traceback": [
      "\u001b[1;31m---------------------------------------------------------------------------\u001b[0m",
      "\u001b[1;31mTypeError\u001b[0m                                 Traceback (most recent call last)",
      "\u001b[1;32m<ipython-input-40-68732ec8199a>\u001b[0m in \u001b[0;36m<module>\u001b[1;34m\u001b[0m\n\u001b[0;32m     14\u001b[0m \u001b[1;33m\u001b[0m\u001b[0m\n\u001b[0;32m     15\u001b[0m \u001b[1;31m# Extract and print Recall and F1 score for each class\u001b[0m\u001b[1;33m\u001b[0m\u001b[1;33m\u001b[0m\u001b[1;33m\u001b[0m\u001b[0m\n\u001b[1;32m---> 16\u001b[1;33m \u001b[0mpositive_recall\u001b[0m \u001b[1;33m=\u001b[0m \u001b[0mreport\u001b[0m\u001b[1;33m[\u001b[0m\u001b[1;34m'positive'\u001b[0m\u001b[1;33m]\u001b[0m\u001b[1;33m[\u001b[0m\u001b[1;34m'recall'\u001b[0m\u001b[1;33m]\u001b[0m\u001b[1;33m\u001b[0m\u001b[1;33m\u001b[0m\u001b[0m\n\u001b[0m\u001b[0;32m     17\u001b[0m \u001b[0mnegative_recall\u001b[0m \u001b[1;33m=\u001b[0m \u001b[0mreport\u001b[0m\u001b[1;33m[\u001b[0m\u001b[1;34m'negative'\u001b[0m\u001b[1;33m]\u001b[0m\u001b[1;33m[\u001b[0m\u001b[1;34m'recall'\u001b[0m\u001b[1;33m]\u001b[0m\u001b[1;33m\u001b[0m\u001b[1;33m\u001b[0m\u001b[0m\n\u001b[0;32m     18\u001b[0m \u001b[0mpositive_f1\u001b[0m \u001b[1;33m=\u001b[0m \u001b[0mreport\u001b[0m\u001b[1;33m[\u001b[0m\u001b[1;34m'positive'\u001b[0m\u001b[1;33m]\u001b[0m\u001b[1;33m[\u001b[0m\u001b[1;34m'f1-score'\u001b[0m\u001b[1;33m]\u001b[0m\u001b[1;33m\u001b[0m\u001b[1;33m\u001b[0m\u001b[0m\n",
      "\u001b[1;31mTypeError\u001b[0m: string indices must be integers"
     ]
    }
   ],
   "source": [
    "# Accuracy\n",
    "accuracy = accuracy_score(y_test, y_pred)\n",
    "print(f'Accuracy: {accuracy:.4f}')\n",
    "\n",
    "# Confusion Matrix\n",
    "conf_matrix = confusion_matrix(y_test, y_pred)\n",
    "print('Confusion Matrix:')\n",
    "print(conf_matrix)\n",
    "\n",
    "# Classification Report\n",
    "report = classification_report(y_test, y_pred)\n",
    "print('Classification Report:')\n",
    "print(report)\n",
    "\n",
    "# Extract and print Recall and F1 score for each class\n",
    "positive_recall = report['positive']['recall']\n",
    "negative_recall = report['negative']['recall']\n",
    "positive_f1 = report['positive']['f1-score']\n",
    "negative_f1 = report['negative']['f1-score']\n",
    "\n",
    "\n",
    "# Print evaluation metrics\n",
    "print(f'Accuracy: {accuracy:.4f}')\n",
    "print('Confusion Matrix:')\n",
    "print(conf_matrix)\n",
    "print('Classification Report:')\n",
    "print(report)\n",
    "print(f\"Positive Recall: {positive_recall:.4f}\")\n",
    "print(f\"Negative Recall: {negative_recall:.4f}\")\n",
    "print(f\"Positive F1 Score: {positive_f1:.4f}\")\n",
    "print(f\"Negative F1 Score: {negative_f1:.4f}\")\n"
   ]
  },
  {
   "cell_type": "markdown",
   "metadata": {},
   "source": [
    "### Evaluating the Binary classifier model"
   ]
  },
  {
   "cell_type": "code",
   "execution_count": 41,
   "metadata": {},
   "outputs": [
    {
     "name": "stdout",
     "output_type": "stream",
     "text": [
      "Accuracy: 0.84\n",
      "Precision: 0.83\n",
      "Recall: 0.84\n",
      "F1 Score: 0.80\n",
      "\n",
      "Classification Report:\n",
      "              precision    recall  f1-score   support\n",
      "\n",
      "        -1.0       0.88      0.20      0.33       104\n",
      "         0.0       0.00      0.00      0.00        18\n",
      "         1.0       0.84      1.00      0.91       535\n",
      "\n",
      "    accuracy                           0.84       657\n",
      "   macro avg       0.57      0.40      0.41       657\n",
      "weighted avg       0.83      0.84      0.80       657\n",
      "\n"
     ]
    }
   ],
   "source": [
    "# Calculate evaluation metrics\n",
    "accuracy = accuracy_score(y_test, y_pred)\n",
    "precision = precision_score(y_test, y_pred, average='weighted', zero_division=0)\n",
    "recall = recall_score(y_test, y_pred, average='weighted', zero_division=0)\n",
    "f1 = f1_score(y_test, y_pred, average='weighted', zero_division=0)\n",
    "\n",
    "# Print the results\n",
    "print(f\"Accuracy: {accuracy:.2f}\")\n",
    "print(f\"Precision: {precision:.2f}\")\n",
    "print(f\"Recall: {recall:.2f}\")\n",
    "print(f\"F1 Score: {f1:.2f}\")\n",
    "\n",
    "# Display classification report\n",
    "print(\"\\nClassification Report:\")\n",
    "print(classification_report(y_test, y_pred))\n"
   ]
  },
  {
   "cell_type": "markdown",
   "metadata": {},
   "source": [
    "### Applying SMOTE \n",
    "\n",
    "This would help in dealing with class imabalance"
   ]
  },
  {
   "cell_type": "code",
   "execution_count": 42,
   "metadata": {},
   "outputs": [],
   "source": [
    "import pandas as pd\n",
    "from sklearn.model_selection import train_test_split\n",
    "from imblearn.over_sampling import SMOTE\n",
    "from sklearn.linear_model import LogisticRegression\n",
    "from sklearn.metrics import classification_report\n"
   ]
  },
  {
   "cell_type": "code",
   "execution_count": 43,
   "metadata": {},
   "outputs": [],
   "source": [
    "from imblearn.over_sampling import SMOTE\n",
    "\n",
    "# Assuming your training data is X_train_tfidf and y_train\n",
    "smote = SMOTE(random_state=42)\n",
    "X_train_smote, y_train_smote = smote.fit_resample(X_train_tfidf, y_train)\n",
    "\n",
    "# Now X_train_smote and y_train_smote can be used to train your multiclass model\n"
   ]
  },
  {
   "cell_type": "markdown",
   "metadata": {},
   "source": [
    "# 8. MultiClass Classifier\n",
    "\n",
    "The main purpose of a multiclass classifier is to extend the classification task beyond two categories, allowing models to effectively distinguish between multiple distinct classes. This is crucial for many real-world applications where multiple options exist, and it helps provide a deeper understanding of the underlying data.\n",
    "\n",
    "We will build a multiclass using logistic modelto include neutral tweets on our binary classifier"
   ]
  },
  {
   "cell_type": "code",
   "execution_count": 44,
   "metadata": {},
   "outputs": [
    {
     "name": "stdout",
     "output_type": "stream",
     "text": [
      "Multiclass Accuracy: 0.7869\n",
      "Multiclass Confusion Matrix:\n",
      "[[ 50   6  48]\n",
      " [  5   1  12]\n",
      " [ 50  19 466]]\n",
      "Multiclass Classification Report:\n",
      "{'-1.0': {'precision': 0.47619047619047616, 'recall': 0.4807692307692308, 'f1-score': 0.4784688995215311, 'support': 104}, '0.0': {'precision': 0.038461538461538464, 'recall': 0.05555555555555555, 'f1-score': 0.04545454545454546, 'support': 18}, '1.0': {'precision': 0.8859315589353612, 'recall': 0.8710280373831776, 'f1-score': 0.8784165881244109, 'support': 535}, 'accuracy': 0.786910197869102, 'macro avg': {'precision': 0.466861191195792, 'recall': 0.46911760790265467, 'f1-score': 0.46744667770016246, 'support': 657}, 'weighted avg': {'precision': 0.7978531221408456, 'recall': 0.786910197869102, 'f1-score': 0.7922858782572008, 'support': 657}}\n"
     ]
    }
   ],
   "source": [
    "# Logistic Regression for Multiclass Classification\n",
    "from sklearn.linear_model import LogisticRegression\n",
    "\n",
    "# Train a multiclass logistic regression model\n",
    "multi_class_model = LogisticRegression(multi_class='multinomial', solver='lbfgs')\n",
    "multi_class_model.fit(X_train_smote, y_train_smote)\n",
    "\n",
    "# Predict on the test set\n",
    "y_pred_multiclass = multi_class_model.predict(X_test_tfidf)\n",
    "\n",
    "# Evaluate the multiclass model\n",
    "accuracy_multiclass = accuracy_score(y_test, y_pred_multiclass)\n",
    "conf_matrix_multiclass = confusion_matrix(y_test, y_pred_multiclass)\n",
    "report_multiclass = classification_report(y_test, y_pred_multiclass, output_dict=True)\n",
    "\n",
    "# Print evaluation metrics\n",
    "print(f'Multiclass Accuracy: {accuracy_multiclass:.4f}')\n",
    "print('Multiclass Confusion Matrix:')\n",
    "print(conf_matrix_multiclass)\n",
    "print('Multiclass Classification Report:')\n",
    "print(report_multiclass)\n"
   ]
  },
  {
   "cell_type": "code",
   "execution_count": 45,
   "metadata": {},
   "outputs": [
    {
     "data": {
      "image/png": "[encoded data removed]",
      "text/plain": [
       "<Figure size 432x288 with 2 Axes>"
      ]
     },
     "metadata": {},
     "output_type": "display_data"
    }
   ],
   "source": [
    "from sklearn.metrics import confusion_matrix, ConfusionMatrixDisplay\n",
    "\n",
    "# Create and display confusion matrix\n",
    "disp = ConfusionMatrixDisplay(confusion_matrix=conf_matrix, display_labels=model.classes_)\n",
    "disp.plot(cmap=plt.cm.Blues)\n",
    "plt.title(\"Confusion Matrix\")\n",
    "plt.show()\n"
   ]
  },
  {
   "cell_type": "code",
   "execution_count": 46,
   "metadata": {},
   "outputs": [
    {
     "name": "stdout",
     "output_type": "stream",
     "text": [
      "Cross-Validation Scores: [0.84       0.83619048 0.83238095 0.82285714 0.82857143]\n",
      "Mean Accuracy: 0.8320\n"
     ]
    }
   ],
   "source": [
    "from sklearn.model_selection import cross_val_score\n",
    "\n",
    "# Perform k-fold cross-validation\n",
    "k = 5  # Number of folds\n",
    "cv_scores = cross_val_score(model, X_train_tfidf, y_train, cv=k, scoring='accuracy')\n",
    "\n",
    "# Print the cross-validation scores and the average\n",
    "print(f\"Cross-Validation Scores: {cv_scores}\")\n",
    "print(f\"Mean Accuracy: {cv_scores.mean():.4f}\")\n"
   ]
  },
  {
   "cell_type": "markdown",
   "metadata": {},
   "source": [
    "# 9. Advanced models\n",
    "\n",
    "Advanced models are used to improve prediction accuracy, handle complexity, reduce overfitting, and automatically discover feature interactions. They provide greater flexibility and adaptability, allowing to fit data more effectively compared to simpler models. Additionally, they give  a competitive edge and offer better generalization to new, unseen data.\n"
   ]
  },
  {
   "cell_type": "code",
   "execution_count": 47,
   "metadata": {},
   "outputs": [],
   "source": [
    "df['tweet_text'] = df['tweet_text'].fillna('')\n",
    "\n",
    "# Fit and transform the cleaned tweet text\n",
    "X_tfidf = tfidf_vectorizer.fit_transform(df['tweet_text']).toarray()\n"
   ]
  },
  {
   "cell_type": "code",
   "execution_count": 48,
   "metadata": {},
   "outputs": [
    {
     "name": "stdout",
     "output_type": "stream",
     "text": [
      "TF-IDF Feature Matrix Shape: (3282, 5000)\n"
     ]
    }
   ],
   "source": [
    "from sklearn.feature_extraction.text import TfidfVectorizer\n",
    "\n",
    "# Initialize the TF-IDF Vectorizer\n",
    "tfidf_vectorizer = TfidfVectorizer(max_features=5000)  \n",
    "\n",
    "# Fit and transform the cleaned tweet text\n",
    "X_tfidf = tfidf_vectorizer.fit_transform(df['tweet_text']).toarray()\n",
    "\n",
    "# Display the shape of the TF-IDF matrix\n",
    "print(f'TF-IDF Feature Matrix Shape: {X_tfidf.shape}')\n"
   ]
  },
  {
   "cell_type": "markdown",
   "metadata": {},
   "source": [
    "##  RANDOM FOREST\n",
    "\n",
    "\n",
    "Random Forest is often chosen due to its high accuracy, reduced risk of overfitting, ability to handle high-dimensional data and missing values, robustness to noise, and good interpretability through feature importance. It provides a stable, versatile, and powerful ensemble method that works well out-of-the-box, making it an excellent choice \n"
   ]
  },
  {
   "cell_type": "code",
   "execution_count": 49,
   "metadata": {},
   "outputs": [
    {
     "name": "stdout",
     "output_type": "stream",
     "text": [
      "Random Forest Classifier Evaluation:\n",
      "Accuracy: 0.8508\n",
      "Confusion Matrix:\n",
      "[[ 29   2  73]\n",
      " [  0   1  17]\n",
      " [  5   1 529]]\n",
      "Classification Report:\n",
      "              precision    recall  f1-score   support\n",
      "\n",
      "        -1.0       0.85      0.28      0.42       104\n",
      "         0.0       0.25      0.06      0.09        18\n",
      "         1.0       0.85      0.99      0.92       535\n",
      "\n",
      "    accuracy                           0.85       657\n",
      "   macro avg       0.65      0.44      0.48       657\n",
      "weighted avg       0.84      0.85      0.82       657\n",
      "\n",
      "Fitting 3 folds for each of 24 candidates, totalling 72 fits\n"
     ]
    },
    {
     "name": "stderr",
     "output_type": "stream",
     "text": [
      "[Parallel(n_jobs=-1)]: Using backend LokyBackend with 4 concurrent workers.\n",
      "[Parallel(n_jobs=-1)]: Done  33 tasks      | elapsed:   40.5s\n",
      "[Parallel(n_jobs=-1)]: Done  72 out of  72 | elapsed:  1.0min finished\n"
     ]
    },
    {
     "name": "stdout",
     "output_type": "stream",
     "text": [
      "Tuned Random Forest Classifier Evaluation:\n",
      "Accuracy: 0.8524\n",
      "Confusion Matrix:\n",
      "[[ 30   2  72]\n",
      " [  0   1  17]\n",
      " [  5   1 529]]\n",
      "Classification Report:\n",
      "              precision    recall  f1-score   support\n",
      "\n",
      "        -1.0       0.86      0.29      0.43       104\n",
      "         0.0       0.25      0.06      0.09        18\n",
      "         1.0       0.86      0.99      0.92       535\n",
      "\n",
      "    accuracy                           0.85       657\n",
      "   macro avg       0.65      0.44      0.48       657\n",
      "weighted avg       0.84      0.85      0.82       657\n",
      "\n"
     ]
    }
   ],
   "source": [
    "# Import necessary libraries\n",
    "from sklearn.ensemble import RandomForestClassifier\n",
    "from sklearn.neural_network import MLPClassifier\n",
    "from sklearn.model_selection import GridSearchCV\n",
    "from sklearn.metrics import classification_report, confusion_matrix, accuracy_score\n",
    "\n",
    "# Train a basic Random Forest model\n",
    "rf_model = RandomForestClassifier(random_state=42)\n",
    "rf_model.fit(X_train_smote, y_train_smote)\n",
    "\n",
    "# Predictions using Random Forest\n",
    "y_pred_rf = rf_model.predict(X_test_tfidf)\n",
    "\n",
    "# Evaluate Random Forest model\n",
    "print(\"Random Forest Classifier Evaluation:\")\n",
    "print(f\"Accuracy: {accuracy_score(y_test, y_pred_rf):.4f}\")\n",
    "print(\"Confusion Matrix:\")\n",
    "print(confusion_matrix(y_test, y_pred_rf))\n",
    "print(\"Classification Report:\")\n",
    "print(classification_report(y_test, y_pred_rf))\n",
    "\n",
    "# Tuning Random Forest model using GridSearchCV\n",
    "param_grid = {\n",
    "    'n_estimators': [100, 200],\n",
    "    'max_depth': [None, 10, 20],\n",
    "    'min_samples_split': [2, 5],\n",
    "    'min_samples_leaf': [1, 2]\n",
    "}\n",
    "grid_search_rf = GridSearchCV(estimator=rf_model, param_grid=param_grid, cv=3, scoring='accuracy', n_jobs=-1, verbose=2)\n",
    "grid_search_rf.fit(X_train_smote, y_train_smote)\n",
    "\n",
    "# Best Random Forest model\n",
    "best_rf_model = grid_search_rf.best_estimator_\n",
    "y_pred_best_rf = best_rf_model.predict(X_test_tfidf)\n",
    "\n",
    "# Evaluate tuned Random Forest model\n",
    "print(\"Tuned Random Forest Classifier Evaluation:\")\n",
    "print(f\"Accuracy: {accuracy_score(y_test, y_pred_best_rf):.4f}\")\n",
    "print(\"Confusion Matrix:\")\n",
    "print(confusion_matrix(y_test, y_pred_best_rf))\n",
    "print(\"Classification Report:\")\n",
    "print(classification_report(y_test, y_pred_best_rf))\n"
   ]
  },
  {
   "cell_type": "markdown",
   "metadata": {},
   "source": [
    "# 10. Advanced model after Tuning\n",
    "\n",
    "## Neural Network( MLPClassifier)\n",
    "\n",
    "The MLPClassifier is well-suited for our sentiment analysis problem due to its ability to model complex relationships, handle multiclass classifications, learn features automatically, and generalize effectively. Given the nature of sentiment data, where nuances and context are crucial, the advantages of using an MLP could lead to significant improvements in our model's performance and accuracy."
   ]
  },
  {
   "cell_type": "code",
   "execution_count": 50,
   "metadata": {
    "scrolled": true
   },
   "outputs": [
    {
     "name": "stdout",
     "output_type": "stream",
     "text": [
      "Neural Network Classifier Evaluation:\n",
      "Accuracy: 0.8234\n",
      "Confusion Matrix:\n",
      "[[ 43   6  55]\n",
      " [  3   1  14]\n",
      " [ 28  10 497]]\n",
      "Classification Report:\n",
      "              precision    recall  f1-score   support\n",
      "\n",
      "        -1.0       0.58      0.41      0.48       104\n",
      "         0.0       0.06      0.06      0.06        18\n",
      "         1.0       0.88      0.93      0.90       535\n",
      "\n",
      "    accuracy                           0.82       657\n",
      "   macro avg       0.51      0.47      0.48       657\n",
      "weighted avg       0.81      0.82      0.81       657\n",
      "\n"
     ]
    }
   ],
   "source": [
    "# Train a Neural Network model\n",
    "nn_model = MLPClassifier(hidden_layer_sizes=(100,), max_iter=300, random_state=42)\n",
    "nn_model.fit(X_train_smote, y_train_smote)\n",
    "\n",
    "# Predictions using Neural Network\n",
    "y_pred_nn = nn_model.predict(X_test_tfidf)\n",
    "\n",
    "# Evaluate Neural Network model\n",
    "print(\"Neural Network Classifier Evaluation:\")\n",
    "print(f\"Accuracy: {accuracy_score(y_test, y_pred_nn):.4f}\")\n",
    "print(\"Confusion Matrix:\")\n",
    "print(confusion_matrix(y_test, y_pred_nn))\n",
    "print(\"Classification Report:\")\n",
    "print(classification_report(y_test, y_pred_nn))"
   ]
  },
  {
   "cell_type": "markdown",
   "metadata": {},
   "source": [
    "Comparing Untuned and Tuned Random Forest with Neural Netrwork."
   ]
  },
  {
   "cell_type": "code",
   "execution_count": 51,
   "metadata": {},
   "outputs": [
    {
     "name": "stdout",
     "output_type": "stream",
     "text": [
      "Model Comparison Summary:\n",
      "Random Forest Accuracy: 0.8508\n",
      "Tuned Random Forest Accuracy: 0.8524\n",
      "Neural Network Accuracy: 0.8234\n"
     ]
    }
   ],
   "source": [
    "# Compare the advanced  models\n",
    "print(\"Model Comparison Summary:\")\n",
    "print(f\"Random Forest Accuracy: {accuracy_score(y_test, y_pred_rf):.4f}\")\n",
    "print(f\"Tuned Random Forest Accuracy: {accuracy_score(y_test, y_pred_best_rf):.4f}\")\n",
    "print(f\"Neural Network Accuracy: {accuracy_score(y_test, y_pred_nn):.4f}\")"
   ]
  },
  {
   "cell_type": "markdown",
   "metadata": {},
   "source": [
    "# 11. Visual comparison of the above prepared  models using matplotlib\n",
    "\n",
    "\n"
   ]
  },
  {
   "cell_type": "code",
   "execution_count": 52,
   "metadata": {},
   "outputs": [
    {
     "data": {
      "image/png": "[encoded data removed]",
      "text/plain": [
       "<Figure size 1008x504 with 1 Axes>"
      ]
     },
     "metadata": {},
     "output_type": "display_data"
    }
   ],
   "source": [
    "import matplotlib.pyplot as plt\n",
    "import numpy as np\n",
    "\n",
    "# Metrics for each model\n",
    "metrics = {\n",
    "    'Logistic Regression (Binary)': {'accuracy': 0.84, 'precision': 0.83, 'recall': 0.84, 'f1-score': 0.80},\n",
    "    'Logistic Regression (Multiclass)': {'accuracy': 0.7869, 'precision': 0.7979, 'recall': 0.7869, 'f1-score': 0.7923},\n",
    "    'Random Forest (Untuned)': {'accuracy': 0.8508, 'precision': 0.84, 'recall': 0.85, 'f1-score': 0.82},\n",
    "    'Random Forest (Tuned)': {'accuracy': 0.8524, 'precision': 0.84, 'recall': 0.85, 'f1-score': 0.82},\n",
    "    'Neural Network': {'accuracy': 0.8234, 'precision': 0.81, 'recall': 0.82, 'f1-score': 0.81}\n",
    "}\n",
    "\n",
    "# Extracting the data to plot\n",
    "model_names = list(metrics.keys())\n",
    "accuracy = [metrics[model]['accuracy'] for model in model_names]\n",
    "precision = [metrics[model]['precision'] for model in model_names]\n",
    "recall = [metrics[model]['recall'] for model in model_names]\n",
    "f1_score = [metrics[model]['f1-score'] for model in model_names]\n",
    "\n",
    "# Creating the bar chart for each metric\n",
    "x = np.arange(len(model_names))  # the label locations\n",
    "width = 0.2  # the width of the bars\n",
    "\n",
    "fig, ax = plt.subplots(figsize=(14, 7))\n",
    "bars1 = ax.bar(x - 1.5*width, accuracy, width, label='Accuracy', color='skyblue')\n",
    "bars2 = ax.bar(x - 0.5*width, precision, width, label='Precision', color='orange')\n",
    "bars3 = ax.bar(x + 0.5*width, recall, width, label='Recall', color='green')\n",
    "bars4 = ax.bar(x + 1.5*width, f1_score, width, label='F1 Score', color='red')\n",
    "\n",
    "# Adding some text for labels, title, and custom x-axis tick labels, etc.\n",
    "ax.set_xlabel('Models', fontsize=14)\n",
    "ax.set_ylabel('Score', fontsize=14)\n",
    "ax.set_title('Performance Comparison of Different Models', fontsize=16)\n",
    "ax.set_xticks(x)\n",
    "ax.set_xticklabels(model_names, rotation=45, ha='right', fontsize=12)\n",
    "ax.set_ylim([0, 1.1])\n",
    "ax.legend()\n",
    "\n",
    "# Adding values on top of each bar\n",
    "for bars in [bars1, bars2, bars3, bars4]:\n",
    "    for bar in bars:\n",
    "        yval = bar.get_height()\n",
    "        ax.text(bar.get_x() + bar.get_width()/2, yval + 0.01, f'{yval:.2f}', ha='center', va='bottom', fontsize=10)\n",
    "\n",
    "plt.tight_layout()\n",
    "plt.show()\n"
   ]
  },
  {
   "cell_type": "code",
   "execution_count": null,
   "metadata": {},
   "outputs": [],
   "source": []
  },
  {
   "cell_type": "code",
   "execution_count": null,
   "metadata": {},
   "outputs": [],
   "source": []
  }
 ],
 "metadata": {
  "kernelspec": {
   "display_name": "Python (learn-env)",
   "language": "python",
   "name": "learn-env"
  },
  "language_info": {
   "codemirror_mode": {
    "name": "ipython",
    "version": 3
   },
   "file_extension": ".py",
   "mimetype": "text/x-python",
   "name": "python",
   "nbconvert_exporter": "python",
   "pygments_lexer": "ipython3",
   "version": "3.8.5"
  }
 },
 "nbformat": 4,
 "nbformat_minor": 4
}
