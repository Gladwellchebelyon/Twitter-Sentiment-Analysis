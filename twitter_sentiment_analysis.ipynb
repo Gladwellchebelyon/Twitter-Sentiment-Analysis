{
 "cells": [
  {
   "cell_type": "markdown",
   "metadata": {},
   "source": []
  },
  {
   "cell_type": "markdown",
   "metadata": {},
   "source": [
    "# 1. Business Understanding\n",
    "1. Objective:\n",
    "\n",
    "The goal is to build an NLP model that rates the sentiment of a Tweet as positive, negative, or neutral, based on its content. This is useful for companies to understand customer opinions, make decisions, and improve products.\n",
    "\n",
    "\n",
    "2. Target Audience: \n",
    "\n",
    "The sentiment analysis could help marketers, product managers, and customer service teams understand how users feel about products.\n",
    "\n",
    "\n",
    "3. Success Criteria:\n",
    "\n",
    "Success is measured by the accuracy and other classification metrics (e.g., F1-score) of the model. An acceptable model should classify sentiments effectively\n",
    "\n",
    "###   Key Questions:\n",
    "~ What is the general sentiment towards Apple and Google products?\n",
    "~ Are there specific topics that elicit strong positive or negative sentiment?\n",
    "~ How does the sentiment change over time or in response to product releases"
   ]
  },
  {
   "cell_type": "markdown",
   "metadata": {},
   "source": [
    "# 2. Data Understanding\n",
    "Dataset Overview: The file judge-1377884607_tweet_product_company.csv contains over 9,000 Tweets, each rated as positive, negative, or neither by human raters.\n",
    "\n",
    "\n",
    "Initial Exploration:\n",
    "\n",
    "1. Load the data to examine its structure, key columns, and distribution of the target labels.\n",
    "2. Check if there are columns related to the content of the Tweet, the date, user information, etc.\n",
    "3. Analyze the class distribution to identify any imbalance (e.g., are most Tweets neutral?)."
   ]
  },
  {
   "cell_type": "code",
   "execution_count": 1,
   "metadata": {},
   "outputs": [],
   "source": [
    "import pandas as pd\n",
    "df = pd.read_csv('judge-1377884607_tweet_product_company.csv', encoding='latin1')\n"
   ]
  },
  {
   "cell_type": "code",
   "execution_count": 2,
   "metadata": {},
   "outputs": [
    {
     "data": {
      "text/html": [
       "<div>\n",
       "<style scoped>\n",
       "    .dataframe tbody tr th:only-of-type {\n",
       "        vertical-align: middle;\n",
       "    }\n",
       "\n",
       "    .dataframe tbody tr th {\n",
       "        vertical-align: top;\n",
       "    }\n",
       "\n",
       "    .dataframe thead th {\n",
       "        text-align: right;\n",
       "    }\n",
       "</style>\n",
       "<table border=\"1\" class=\"dataframe\">\n",
       "  <thead>\n",
       "    <tr style=\"text-align: right;\">\n",
       "      <th></th>\n",
       "      <th>tweet_text</th>\n",
       "      <th>emotion_in_tweet_is_directed_at</th>\n",
       "      <th>is_there_an_emotion_directed_at_a_brand_or_product</th>\n",
       "    </tr>\n",
       "  </thead>\n",
       "  <tbody>\n",
       "    <tr>\n",
       "      <th>0</th>\n",
       "      <td>.@wesley83 I have a 3G iPhone. After 3 hrs twe...</td>\n",
       "      <td>iPhone</td>\n",
       "      <td>Negative emotion</td>\n",
       "    </tr>\n",
       "    <tr>\n",
       "      <th>1</th>\n",
       "      <td>@jessedee Know about @fludapp ? Awesome iPad/i...</td>\n",
       "      <td>iPad or iPhone App</td>\n",
       "      <td>Positive emotion</td>\n",
       "    </tr>\n",
       "    <tr>\n",
       "      <th>2</th>\n",
       "      <td>@swonderlin Can not wait for #iPad 2 also. The...</td>\n",
       "      <td>iPad</td>\n",
       "      <td>Positive emotion</td>\n",
       "    </tr>\n",
       "    <tr>\n",
       "      <th>3</th>\n",
       "      <td>@sxsw I hope this year's festival isn't as cra...</td>\n",
       "      <td>iPad or iPhone App</td>\n",
       "      <td>Negative emotion</td>\n",
       "    </tr>\n",
       "    <tr>\n",
       "      <th>4</th>\n",
       "      <td>@sxtxstate great stuff on Fri #SXSW: Marissa M...</td>\n",
       "      <td>Google</td>\n",
       "      <td>Positive emotion</td>\n",
       "    </tr>\n",
       "  </tbody>\n",
       "</table>\n",
       "</div>"
      ],
      "text/plain": [
       "                                          tweet_text  \\\n",
       "0  .@wesley83 I have a 3G iPhone. After 3 hrs twe...   \n",
       "1  @jessedee Know about @fludapp ? Awesome iPad/i...   \n",
       "2  @swonderlin Can not wait for #iPad 2 also. The...   \n",
       "3  @sxsw I hope this year's festival isn't as cra...   \n",
       "4  @sxtxstate great stuff on Fri #SXSW: Marissa M...   \n",
       "\n",
       "  emotion_in_tweet_is_directed_at  \\\n",
       "0                          iPhone   \n",
       "1              iPad or iPhone App   \n",
       "2                            iPad   \n",
       "3              iPad or iPhone App   \n",
       "4                          Google   \n",
       "\n",
       "  is_there_an_emotion_directed_at_a_brand_or_product  \n",
       "0                                   Negative emotion  \n",
       "1                                   Positive emotion  \n",
       "2                                   Positive emotion  \n",
       "3                                   Negative emotion  \n",
       "4                                   Positive emotion  "
      ]
     },
     "execution_count": 2,
     "metadata": {},
     "output_type": "execute_result"
    }
   ],
   "source": [
    "df.head()"
   ]
  },
  {
   "cell_type": "code",
   "execution_count": 3,
   "metadata": {},
   "outputs": [
    {
     "name": "stdout",
     "output_type": "stream",
     "text": [
      "<class 'pandas.core.frame.DataFrame'>\n",
      "RangeIndex: 9093 entries, 0 to 9092\n",
      "Data columns (total 3 columns):\n",
      " #   Column                                              Non-Null Count  Dtype \n",
      "---  ------                                              --------------  ----- \n",
      " 0   tweet_text                                          9092 non-null   object\n",
      " 1   emotion_in_tweet_is_directed_at                     3291 non-null   object\n",
      " 2   is_there_an_emotion_directed_at_a_brand_or_product  9093 non-null   object\n",
      "dtypes: object(3)\n",
      "memory usage: 213.2+ KB\n"
     ]
    }
   ],
   "source": [
    "df.info()"
   ]
  },
  {
   "cell_type": "code",
   "execution_count": 4,
   "metadata": {
    "scrolled": false
   },
   "outputs": [
    {
     "data": {
      "text/plain": [
       "<bound method NDFrame.describe of                                              tweet_text  \\\n",
       "0     .@wesley83 I have a 3G iPhone. After 3 hrs twe...   \n",
       "1     @jessedee Know about @fludapp ? Awesome iPad/i...   \n",
       "2     @swonderlin Can not wait for #iPad 2 also. The...   \n",
       "3     @sxsw I hope this year's festival isn't as cra...   \n",
       "4     @sxtxstate great stuff on Fri #SXSW: Marissa M...   \n",
       "...                                                 ...   \n",
       "9088                      Ipad everywhere. #SXSW {link}   \n",
       "9089  Wave, buzz... RT @mention We interrupt your re...   \n",
       "9090  Google's Zeiger, a physician never reported po...   \n",
       "9091  Some Verizon iPhone customers complained their...   \n",
       "9092  Ï¡Ïàü_ÊÎÒ£Áââ_£â_ÛâRT @...   \n",
       "\n",
       "     emotion_in_tweet_is_directed_at  \\\n",
       "0                             iPhone   \n",
       "1                 iPad or iPhone App   \n",
       "2                               iPad   \n",
       "3                 iPad or iPhone App   \n",
       "4                             Google   \n",
       "...                              ...   \n",
       "9088                            iPad   \n",
       "9089                             NaN   \n",
       "9090                             NaN   \n",
       "9091                             NaN   \n",
       "9092                             NaN   \n",
       "\n",
       "     is_there_an_emotion_directed_at_a_brand_or_product  \n",
       "0                                      Negative emotion  \n",
       "1                                      Positive emotion  \n",
       "2                                      Positive emotion  \n",
       "3                                      Negative emotion  \n",
       "4                                      Positive emotion  \n",
       "...                                                 ...  \n",
       "9088                                   Positive emotion  \n",
       "9089                 No emotion toward brand or product  \n",
       "9090                 No emotion toward brand or product  \n",
       "9091                 No emotion toward brand or product  \n",
       "9092                 No emotion toward brand or product  \n",
       "\n",
       "[9093 rows x 3 columns]>"
      ]
     },
     "execution_count": 4,
     "metadata": {},
     "output_type": "execute_result"
    }
   ],
   "source": [
    "df.describe"
   ]
  },
  {
   "cell_type": "code",
   "execution_count": 5,
   "metadata": {},
   "outputs": [
    {
     "name": "stdout",
     "output_type": "stream",
     "text": [
      "Index(['tweet_text', 'emotion_in_tweet_is_directed_at',\n",
      "       'is_there_an_emotion_directed_at_a_brand_or_product'],\n",
      "      dtype='object')\n"
     ]
    }
   ],
   "source": [
    "print(df.columns)"
   ]
  },
  {
   "cell_type": "code",
   "execution_count": 6,
   "metadata": {},
   "outputs": [
    {
     "data": {
      "text/plain": [
       "No emotion toward brand or product    5389\n",
       "Positive emotion                      2978\n",
       "Negative emotion                       570\n",
       "I can't tell                           156\n",
       "Name: is_there_an_emotion_directed_at_a_brand_or_product, dtype: int64"
      ]
     },
     "execution_count": 6,
     "metadata": {},
     "output_type": "execute_result"
    }
   ],
   "source": [
    "df.is_there_an_emotion_directed_at_a_brand_or_product.value_counts()"
   ]
  },
  {
   "cell_type": "code",
   "execution_count": 7,
   "metadata": {},
   "outputs": [
    {
     "data": {
      "text/plain": [
       "iPad                               946\n",
       "Apple                              661\n",
       "iPad or iPhone App                 470\n",
       "Google                             430\n",
       "iPhone                             297\n",
       "Other Google product or service    293\n",
       "Android App                         81\n",
       "Android                             78\n",
       "Other Apple product or service      35\n",
       "Name: emotion_in_tweet_is_directed_at, dtype: int64"
      ]
     },
     "execution_count": 7,
     "metadata": {},
     "output_type": "execute_result"
    }
   ],
   "source": [
    "df.emotion_in_tweet_is_directed_at.value_counts()"
   ]
  },
  {
   "cell_type": "code",
   "execution_count": 8,
   "metadata": {},
   "outputs": [
    {
     "data": {
      "text/plain": [
       "RT @mention Marissa Mayer: Google Will Connect the Digital &amp; Physical Worlds Through Mobile - {link} #sxsw                          5\n",
       "RT @mention Google to Launch Major New Social Network Called Circles, Possibly Today {link} #sxsw                                       4\n",
       "RT @mention Marissa Mayer: Google Will Connect the Digital &amp; Physical Worlds Through Mobile - {link} #SXSW                          4\n",
       "RT @mention Google to Launch Major New Social Network Called Circles, Possibly Today {link} #SXSW                                       3\n",
       "Need to buy an iPad2 while I'm in Austin at #sxsw. Not sure if I'll need to Q up at an Austin Apple store?                              2\n",
       "                                                                                                                                       ..\n",
       "wishes he could be at the @mention / @mention / @mention party at #sxsw instead of doing homework for tomorrow...                       1\n",
       "Here's a view inside - {link} RT @mention Apple Popup Store at #SXSW {link}                                                             1\n",
       "Just saw google speak, creating search engines tht can recognize pictures. Artificial intelligence is here! #SXSW                       1\n",
       "RT @mention RT @mention Traveling to #sxsw with your ipad 1 is so 3/10/2011                                                             1\n",
       "Holy cow! I just got hooked by Paolo and Alex with a backup charger for my iPhone! facebook.com/powermat #powermatteam #sxsw #thanks    1\n",
       "Name: tweet_text, Length: 9065, dtype: int64"
      ]
     },
     "execution_count": 8,
     "metadata": {},
     "output_type": "execute_result"
    }
   ],
   "source": [
    "df. tweet_text.value_counts()"
   ]
  },
  {
   "cell_type": "markdown",
   "metadata": {},
   "source": [
    "# Data Preparation"
   ]
  },
  {
   "cell_type": "code",
   "execution_count": 9,
   "metadata": {
    "scrolled": false
   },
   "outputs": [
    {
     "name": "stdout",
     "output_type": "stream",
     "text": [
      "Missing Values:\n",
      " tweet_text                                               1\n",
      "emotion_in_tweet_is_directed_at                       5802\n",
      "is_there_an_emotion_directed_at_a_brand_or_product       0\n",
      "dtype: int64\n",
      "\n",
      "Percentage of Missing Values:\n",
      " tweet_text                                             0.010997\n",
      "emotion_in_tweet_is_directed_at                       63.807324\n",
      "is_there_an_emotion_directed_at_a_brand_or_product     0.000000\n",
      "dtype: float64\n",
      "\n",
      "Number of Duplicate Rows: 22\n",
      "\n",
      "Duplicate Rows:\n",
      "                                              tweet_text  \\\n",
      "468      Before It Even Begins, Apple Wins #SXSW {link}   \n",
      "776   Google to Launch Major New Social Network Call...   \n",
      "2232  Marissa Mayer: Google Will Connect the Digital...   \n",
      "2559  Counting down the days to #sxsw plus strong Ca...   \n",
      "3950  Really enjoying the changes in Gowalla 3.0 for...   \n",
      "3962  #SXSW is just starting, #CTIA is around the co...   \n",
      "4897  Oh. My. God. The #SXSW app for iPad is pure, u...   \n",
      "5338  RT @mention ÷¼ GO BEYOND BORDERS! ÷_ {link} ...   \n",
      "5341  RT @mention ÷¼ Happy Woman's Day! Make love, ...   \n",
      "5881  RT @mention Google to Launch Major New Social ...   \n",
      "5882  RT @mention Google to Launch Major New Social ...   \n",
      "5883  RT @mention Google to Launch Major New Social ...   \n",
      "5884  RT @mention Google to Launch Major New Social ...   \n",
      "5885  RT @mention Google to Launch Major New Social ...   \n",
      "6296  RT @mention Marissa Mayer: Google Will Connect...   \n",
      "6297  RT @mention Marissa Mayer: Google Will Connect...   \n",
      "6298  RT @mention Marissa Mayer: Google Will Connect...   \n",
      "6299  RT @mention Marissa Mayer: Google Will Connect...   \n",
      "6300  RT @mention Marissa Mayer: Google Will Connect...   \n",
      "6546  RT @mention RT @mention Google to Launch Major...   \n",
      "8483  I just noticed DST is coming this weekend. How...   \n",
      "8747  Need to buy an iPad2 while I'm in Austin at #s...   \n",
      "\n",
      "     emotion_in_tweet_is_directed_at  \\\n",
      "468                            Apple   \n",
      "776                              NaN   \n",
      "2232                             NaN   \n",
      "2559                           Apple   \n",
      "3950                     Android App   \n",
      "3962                         Android   \n",
      "4897              iPad or iPhone App   \n",
      "5338                             NaN   \n",
      "5341                             NaN   \n",
      "5881                             NaN   \n",
      "5882                             NaN   \n",
      "5883                             NaN   \n",
      "5884                             NaN   \n",
      "5885                             NaN   \n",
      "6296                          Google   \n",
      "6297                             NaN   \n",
      "6298                          Google   \n",
      "6299                             NaN   \n",
      "6300                             NaN   \n",
      "6546                             NaN   \n",
      "8483                          iPhone   \n",
      "8747                            iPad   \n",
      "\n",
      "     is_there_an_emotion_directed_at_a_brand_or_product  \n",
      "468                                    Positive emotion  \n",
      "776                  No emotion toward brand or product  \n",
      "2232                 No emotion toward brand or product  \n",
      "2559                                   Positive emotion  \n",
      "3950                                   Positive emotion  \n",
      "3962                                   Positive emotion  \n",
      "4897                                   Positive emotion  \n",
      "5338                 No emotion toward brand or product  \n",
      "5341                 No emotion toward brand or product  \n",
      "5881                 No emotion toward brand or product  \n",
      "5882                 No emotion toward brand or product  \n",
      "5883                 No emotion toward brand or product  \n",
      "5884                 No emotion toward brand or product  \n",
      "5885                 No emotion toward brand or product  \n",
      "6296                                   Positive emotion  \n",
      "6297                 No emotion toward brand or product  \n",
      "6298                                   Positive emotion  \n",
      "6299                 No emotion toward brand or product  \n",
      "6300                 No emotion toward brand or product  \n",
      "6546                 No emotion toward brand or product  \n",
      "8483                                   Negative emotion  \n",
      "8747                                   Positive emotion  \n",
      "\n",
      "Data Types:\n",
      " tweet_text                                            object\n",
      "emotion_in_tweet_is_directed_at                       object\n",
      "is_there_an_emotion_directed_at_a_brand_or_product    object\n",
      "dtype: object\n",
      "\n",
      "Unique values in column 'tweet_text':\n",
      "['.@wesley83 I have a 3G iPhone. After 3 hrs tweeting at #RISE_Austin, it was dead!  I need to upgrade. Plugin stations at #SXSW.'\n",
      " \"@jessedee Know about @fludapp ? Awesome iPad/iPhone app that you'll likely appreciate for its design. Also, they're giving free Ts at #SXSW\"\n",
      " '@swonderlin Can not wait for #iPad 2 also. They should sale them down at #SXSW.'\n",
      " ...\n",
      " \"Google's Zeiger, a physician never reported potential AE. Yet FDA relies on physicians. &quot;We're operating w/out data.&quot; #sxsw #health2dev\"\n",
      " 'Some Verizon iPhone customers complained their time fell back an hour this weekend.  Of course they were the New Yorkers who attended #SXSW.'\n",
      " '\\x8cÏ¡\\x8eÏà\\x8aü_\\x8b\\x81Ê\\x8b\\x81Î\\x8b\\x81Ò\\x8b\\x81£\\x8b\\x81Á\\x8bââ\\x8b\\x81_\\x8b\\x81£\\x8b\\x81\\x8f\\x8bâ_\\x8bÛâRT @mention Google Tests \\x89ÛÏCheck-in Offers\\x89Û\\x9d At #SXSW {link}']\n",
      "\n",
      "Unique values in column 'emotion_in_tweet_is_directed_at':\n",
      "['iPhone' 'iPad or iPhone App' 'iPad' 'Google' nan 'Android' 'Apple'\n",
      " 'Android App' 'Other Google product or service'\n",
      " 'Other Apple product or service']\n",
      "\n",
      "Unique values in column 'is_there_an_emotion_directed_at_a_brand_or_product':\n",
      "['Negative emotion' 'Positive emotion'\n",
      " 'No emotion toward brand or product' \"I can't tell\"]\n",
      "\n",
      "Standardized unique values in column 'tweet_text':\n",
      "['.@wesley83 i have a 3g iphone. after 3 hrs tweeting at #rise_austin, it was dead!  i need to upgrade. plugin stations at #sxsw.'\n",
      " \"@jessedee know about @fludapp ? awesome ipad/iphone app that you'll likely appreciate for its design. also, they're giving free ts at #sxsw\"\n",
      " '@swonderlin can not wait for #ipad 2 also. they should sale them down at #sxsw.'\n",
      " ...\n",
      " \"google's zeiger, a physician never reported potential ae. yet fda relies on physicians. &quot;we're operating w/out data.&quot; #sxsw #health2dev\"\n",
      " 'some verizon iphone customers complained their time fell back an hour this weekend.  of course they were the new yorkers who attended #sxsw.'\n",
      " '\\x8cï¡\\x8eïà\\x8aü_\\x8b\\x81ê\\x8b\\x81î\\x8b\\x81ò\\x8b\\x81£\\x8b\\x81á\\x8bââ\\x8b\\x81_\\x8b\\x81£\\x8b\\x81\\x8f\\x8bâ_\\x8bûârt @mention google tests \\x89ûïcheck-in offers\\x89û\\x9d at #sxsw {link}']\n",
      "\n",
      "Standardized unique values in column 'emotion_in_tweet_is_directed_at':\n",
      "['iphone' 'ipad or iphone app' 'ipad' 'google' nan 'android' 'apple'\n",
      " 'android app' 'other google product or service'\n",
      " 'other apple product or service']\n",
      "\n",
      "Standardized unique values in column 'is_there_an_emotion_directed_at_a_brand_or_product':\n",
      "['negative emotion' 'positive emotion'\n",
      " 'no emotion toward brand or product' \"i can't tell\"]\n"
     ]
    }
   ],
   "source": [
    "# 1. Check for Missing Values\n",
    "# Count of missing values for each column\n",
    "missing_values = df.isnull().sum()\n",
    "print(\"Missing Values:\\n\", missing_values)\n",
    "\n",
    "# Percentage of missing values for each column\n",
    "missing_percentage = (df.isnull().sum() / len(df)) * 100\n",
    "print(\"\\nPercentage of Missing Values:\\n\", missing_percentage)\n",
    "\n",
    "# 2. Check for Duplicates\n",
    "# Count the number of duplicate rows\n",
    "duplicate_rows = df.duplicated().sum()\n",
    "print(\"\\nNumber of Duplicate Rows:\", duplicate_rows)\n",
    "\n",
    "# Display duplicate rows if any\n",
    "if duplicate_rows > 0:\n",
    "    print(\"\\nDuplicate Rows:\\n\", df[df.duplicated()])\n",
    "\n",
    "# 3. Check for Inconsistencies\n",
    "# Check for data types of each column\n",
    "print(\"\\nData Types:\\n\", df.dtypes)\n",
    "\n",
    "# Identify unique values for categorical columns to spot inconsistencies\n",
    "for column in df.select_dtypes(include=['object']).columns:\n",
    "    print(f\"\\nUnique values in column '{column}':\")\n",
    "    print(df[column].unique())\n",
    "\n",
    "# Checking for inconsistent capitalization in categorical data\n",
    "for column in df.select_dtypes(include=['object']).columns:\n",
    "    inconsistent_values = df[column].apply(lambda x: x.lower() if isinstance(x, str) else x).unique()\n",
    "    print(f\"\\nStandardized unique values in column '{column}':\")\n",
    "    print(inconsistent_values)"
   ]
  },
  {
   "cell_type": "code",
   "execution_count": 10,
   "metadata": {},
   "outputs": [
    {
     "name": "stdout",
     "output_type": "stream",
     "text": [
      "Number of NaNs in each column:\n",
      "tweet_text                                               1\n",
      "emotion_in_tweet_is_directed_at                       5802\n",
      "is_there_an_emotion_directed_at_a_brand_or_product       0\n",
      "dtype: int64\n"
     ]
    }
   ],
   "source": [
    "# Check for NaNs\n",
    "nan_count = df.isna().sum()\n",
    "print(\"Number of NaNs in each column:\")\n",
    "print(nan_count)"
   ]
  },
  {
   "cell_type": "markdown",
   "metadata": {},
   "source": [
    "# Cleaning each column"
   ]
  },
  {
   "cell_type": "code",
   "execution_count": 11,
   "metadata": {},
   "outputs": [
    {
     "name": "stdout",
     "output_type": "stream",
     "text": [
      "<class 'pandas.core.frame.DataFrame'>\n",
      "Int64Index: 9092 entries, 0 to 9092\n",
      "Data columns (total 3 columns):\n",
      " #   Column                                              Non-Null Count  Dtype \n",
      "---  ------                                              --------------  ----- \n",
      " 0   tweet_text                                          9092 non-null   object\n",
      " 1   emotion_in_tweet_is_directed_at                     3291 non-null   object\n",
      " 2   is_there_an_emotion_directed_at_a_brand_or_product  9092 non-null   object\n",
      "dtypes: object(3)\n",
      "memory usage: 284.1+ KB\n",
      "None\n"
     ]
    }
   ],
   "source": [
    "# Drop rows where 'tweet_text' is missing\n",
    "df = df.dropna(subset=['tweet_text'])\n",
    "\n",
    "# Verify the dataset after dropping missing values\n",
    "print(df.info())\n"
   ]
  },
  {
   "cell_type": "code",
   "execution_count": 12,
   "metadata": {},
   "outputs": [
    {
     "name": "stderr",
     "output_type": "stream",
     "text": [
      "<ipython-input-12-7c201dfb13b2>:12: SettingWithCopyWarning: \n",
      "A value is trying to be set on a copy of a slice from a DataFrame.\n",
      "Try using .loc[row_indexer,col_indexer] = value instead\n",
      "\n",
      "See the caveats in the documentation: https://pandas.pydata.org/pandas-docs/stable/user_guide/indexing.html#returning-a-view-versus-a-copy\n",
      "  df['cleaned_tweet_text'] = df['tweet_text'].apply(clean_tweet)\n"
     ]
    },
    {
     "data": {
      "text/html": [
       "<div>\n",
       "<style scoped>\n",
       "    .dataframe tbody tr th:only-of-type {\n",
       "        vertical-align: middle;\n",
       "    }\n",
       "\n",
       "    .dataframe tbody tr th {\n",
       "        vertical-align: top;\n",
       "    }\n",
       "\n",
       "    .dataframe thead th {\n",
       "        text-align: right;\n",
       "    }\n",
       "</style>\n",
       "<table border=\"1\" class=\"dataframe\">\n",
       "  <thead>\n",
       "    <tr style=\"text-align: right;\">\n",
       "      <th></th>\n",
       "      <th>tweet_text</th>\n",
       "      <th>cleaned_tweet_text</th>\n",
       "    </tr>\n",
       "  </thead>\n",
       "  <tbody>\n",
       "    <tr>\n",
       "      <th>0</th>\n",
       "      <td>.@wesley83 I have a 3G iPhone. After 3 hrs twe...</td>\n",
       "      <td>i have a g iphone after  hrs tweeting at  it w...</td>\n",
       "    </tr>\n",
       "    <tr>\n",
       "      <th>1</th>\n",
       "      <td>@jessedee Know about @fludapp ? Awesome iPad/i...</td>\n",
       "      <td>know about   awesome ipadiphone app that youll...</td>\n",
       "    </tr>\n",
       "    <tr>\n",
       "      <th>2</th>\n",
       "      <td>@swonderlin Can not wait for #iPad 2 also. The...</td>\n",
       "      <td>can not wait for   also they should sale them ...</td>\n",
       "    </tr>\n",
       "    <tr>\n",
       "      <th>3</th>\n",
       "      <td>@sxsw I hope this year's festival isn't as cra...</td>\n",
       "      <td>i hope this years festival isnt as crashy as t...</td>\n",
       "    </tr>\n",
       "    <tr>\n",
       "      <th>4</th>\n",
       "      <td>@sxtxstate great stuff on Fri #SXSW: Marissa M...</td>\n",
       "      <td>great stuff on fri  marissa mayer google tim o...</td>\n",
       "    </tr>\n",
       "  </tbody>\n",
       "</table>\n",
       "</div>"
      ],
      "text/plain": [
       "                                          tweet_text  \\\n",
       "0  .@wesley83 I have a 3G iPhone. After 3 hrs twe...   \n",
       "1  @jessedee Know about @fludapp ? Awesome iPad/i...   \n",
       "2  @swonderlin Can not wait for #iPad 2 also. The...   \n",
       "3  @sxsw I hope this year's festival isn't as cra...   \n",
       "4  @sxtxstate great stuff on Fri #SXSW: Marissa M...   \n",
       "\n",
       "                                  cleaned_tweet_text  \n",
       "0  i have a g iphone after  hrs tweeting at  it w...  \n",
       "1  know about   awesome ipadiphone app that youll...  \n",
       "2  can not wait for   also they should sale them ...  \n",
       "3  i hope this years festival isnt as crashy as t...  \n",
       "4  great stuff on fri  marissa mayer google tim o...  "
      ]
     },
     "execution_count": 12,
     "metadata": {},
     "output_type": "execute_result"
    }
   ],
   "source": [
    "import re\n",
    "\n",
    "# Clean the Tweet text\n",
    "def clean_tweet(text):\n",
    "    text = re.sub(r\"http\\S+|www\\S+|https\\S+\", \"\", text, flags=re.MULTILINE)  # Remove URLs\n",
    "    text = re.sub(r\"@\\w+|#\\w+\", \"\", text)  # Remove mentions and hashtags\n",
    "    text = re.sub(r\"[^A-Za-z\\s]\", \"\", text)  # Remove special characters\n",
    "    text = text.lower().strip()  # Convert to lowercase and remove leading/trailing spaces\n",
    "    return text\n",
    "\n",
    "# Apply the cleaning function\n",
    "df['cleaned_tweet_text'] = df['tweet_text'].apply(clean_tweet)\n",
    "\n",
    "# Display the cleaned Tweet text\n",
    "df[['tweet_text', 'cleaned_tweet_text']].head()\n"
   ]
  },
  {
   "cell_type": "code",
   "execution_count": 13,
   "metadata": {},
   "outputs": [
    {
     "data": {
      "text/html": [
       "<div>\n",
       "<style scoped>\n",
       "    .dataframe tbody tr th:only-of-type {\n",
       "        vertical-align: middle;\n",
       "    }\n",
       "\n",
       "    .dataframe tbody tr th {\n",
       "        vertical-align: top;\n",
       "    }\n",
       "\n",
       "    .dataframe thead th {\n",
       "        text-align: right;\n",
       "    }\n",
       "</style>\n",
       "<table border=\"1\" class=\"dataframe\">\n",
       "  <thead>\n",
       "    <tr style=\"text-align: right;\">\n",
       "      <th></th>\n",
       "      <th>emotion_in_tweet_is_directed_at</th>\n",
       "    </tr>\n",
       "  </thead>\n",
       "  <tbody>\n",
       "    <tr>\n",
       "      <th>0</th>\n",
       "      <td>iphone</td>\n",
       "    </tr>\n",
       "    <tr>\n",
       "      <th>1</th>\n",
       "      <td>ipad or iphone app</td>\n",
       "    </tr>\n",
       "    <tr>\n",
       "      <th>2</th>\n",
       "      <td>ipad</td>\n",
       "    </tr>\n",
       "    <tr>\n",
       "      <th>4</th>\n",
       "      <td>google</td>\n",
       "    </tr>\n",
       "    <tr>\n",
       "      <th>7</th>\n",
       "      <td>android</td>\n",
       "    </tr>\n",
       "    <tr>\n",
       "      <th>9</th>\n",
       "      <td>apple</td>\n",
       "    </tr>\n",
       "    <tr>\n",
       "      <th>11</th>\n",
       "      <td>android app</td>\n",
       "    </tr>\n",
       "    <tr>\n",
       "      <th>13</th>\n",
       "      <td>other google product or service</td>\n",
       "    </tr>\n",
       "    <tr>\n",
       "      <th>703</th>\n",
       "      <td>other apple product or service</td>\n",
       "    </tr>\n",
       "  </tbody>\n",
       "</table>\n",
       "</div>"
      ],
      "text/plain": [
       "     emotion_in_tweet_is_directed_at\n",
       "0                             iphone\n",
       "1                 ipad or iphone app\n",
       "2                               ipad\n",
       "4                             google\n",
       "7                            android\n",
       "9                              apple\n",
       "11                       android app\n",
       "13   other google product or service\n",
       "703   other apple product or service"
      ]
     },
     "execution_count": 13,
     "metadata": {},
     "output_type": "execute_result"
    }
   ],
   "source": [
    "# Remove rows with missing or 'unknown' values in 'emotion_in_tweet_is_directed_at'\n",
    "df = df[df['emotion_in_tweet_is_directed_at'].notna()]  # Remove NaN values\n",
    "df = df[df['emotion_in_tweet_is_directed_at'].str.lower() != 'unknown']  # Remove 'unknown'\n",
    "\n",
    "# Standardize the text in 'emotion_in_tweet_is_directed_at'\n",
    "df['emotion_in_tweet_is_directed_at'] = df['emotion_in_tweet_is_directed_at'].str.lower().str.strip()\n",
    "\n",
    "# Display the cleaned 'emotion_in_tweet_is_directed_at' column\n",
    "df[['emotion_in_tweet_is_directed_at']].drop_duplicates().head(10)\n"
   ]
  },
  {
   "cell_type": "code",
   "execution_count": 14,
   "metadata": {},
   "outputs": [
    {
     "data": {
      "text/plain": [
       "0       negative emotion\n",
       "1       positive emotion\n",
       "2       positive emotion\n",
       "3       negative emotion\n",
       "4       positive emotion\n",
       "              ...       \n",
       "9077    positive emotion\n",
       "9079    positive emotion\n",
       "9080    negative emotion\n",
       "9085    positive emotion\n",
       "9088    positive emotion\n",
       "Name: is_there_an_emotion_directed_at_a_brand_or_product, Length: 3291, dtype: object"
      ]
     },
     "execution_count": 14,
     "metadata": {},
     "output_type": "execute_result"
    }
   ],
   "source": [
    "# Convert values in 'is_there_an_emotion_directed_at_a_brand_or_product' to lowercase and fix inconsistencies\n",
    "df['is_there_an_emotion_directed_at_a_brand_or_product'] = df['is_there_an_emotion_directed_at_a_brand_or_product'].str.lower()\n",
    "df.is_there_an_emotion_directed_at_a_brand_or_product\n"
   ]
  },
  {
   "cell_type": "code",
   "execution_count": 15,
   "metadata": {},
   "outputs": [
    {
     "name": "stdout",
     "output_type": "stream",
     "text": [
      "['negative emotion' 'positive emotion'\n",
      " 'no emotion toward brand or product' \"i can't tell\"]\n"
     ]
    }
   ],
   "source": [
    "\n",
    "# Verify unique values after standardization\n",
    "print(df['is_there_an_emotion_directed_at_a_brand_or_product'].unique())"
   ]
  },
  {
   "cell_type": "markdown",
   "metadata": {},
   "source": [
    "# EDA without Sentiment labels\n",
    "\n",
    "The goal of performing EDA before engineering the sentiment labels is to better understand the underlying structure of the data and generate insights without being influenced by the target labels. This will allow us to build a more informed model later on"
   ]
  },
  {
   "cell_type": "code",
   "execution_count": 16,
   "metadata": {},
   "outputs": [],
   "source": [
    "import pandas as pd\n",
    "import matplotlib.pyplot as plt\n",
    "import seaborn as sns\n",
    "from collections import Counter\n",
    "import re"
   ]
  },
  {
   "cell_type": "markdown",
   "metadata": {},
   "source": [
    "Step 1: Word Frequency Analysis\n",
    "We will calculate the frequency of words used across all Tweets."
   ]
  },
  {
   "cell_type": "code",
   "execution_count": 17,
   "metadata": {},
   "outputs": [
    {
     "name": "stdout",
     "output_type": "stream",
     "text": [
      "Most common words: [('sxsw', 3468), ('mention', 2278), ('the', 1806), ('to', 1324), ('link', 1210), ('ipad', 1160), ('at', 1088), ('apple', 1013), ('rt', 980), ('for', 962), ('a', 896), ('google', 794), ('i', 760), ('is', 748), ('of', 721), ('in', 710), ('iphone', 659), ('and', 626), ('quot', 596), ('store', 563)]\n"
     ]
    }
   ],
   "source": [
    "# Combine all tweet texts into a single string\n",
    "all_words = ' '.join(df['tweet_text'].astype(str)).lower()\n",
    "# Tokenize and count word frequency\n",
    "word_list = re.findall(r'\\b\\w+\\b', all_words)\n",
    "word_freq = Counter(word_list)\n",
    "\n",
    "# Most common words\n",
    "common_words = word_freq.most_common(20)\n",
    "print(\"Most common words:\", common_words)"
   ]
  },
  {
   "cell_type": "markdown",
   "metadata": {},
   "source": [
    "Step 2: Tweet Length Analysis\n",
    "We'll create features for the length of each Tweet in terms of characters and words and plot the distribution."
   ]
  },
  {
   "cell_type": "code",
   "execution_count": 18,
   "metadata": {},
   "outputs": [
    {
     "data": {
      "image/png": "[encoded data removed]",
      "text/plain": [
       "<Figure size 864x432 with 1 Axes>"
      ]
     },
     "metadata": {
      "needs_background": "light"
     },
     "output_type": "display_data"
    },
    {
     "data": {
      "image/png": "[encoded data removed]",
      "text/plain": [
       "<Figure size 864x432 with 1 Axes>"
      ]
     },
     "metadata": {
      "needs_background": "light"
     },
     "output_type": "display_data"
    }
   ],
   "source": [
    "df['tweet_length'] = df['tweet_text'].str.len()  # Character count\n",
    "df['tweet_length_words'] = df['tweet_text'].str.split().str.len()  # Word count\n",
    "\n",
    "# Plotting the distribution of tweet lengths\n",
    "plt.figure(figsize=(12, 6))\n",
    "sns.histplot(df['tweet_length'], bins=30, kde=True)\n",
    "plt.title('Distribution of Tweet Lengths (in Characters)')\n",
    "plt.xlabel('Tweet Length (Characters)')\n",
    "plt.ylabel('Frequency')\n",
    "plt.show()\n",
    "\n",
    "plt.figure(figsize=(12, 6))\n",
    "sns.histplot(df['tweet_length_words'], bins=30, kde=True)\n",
    "plt.title('Distribution of Tweet Lengths (in Words)')\n",
    "plt.xlabel('Tweet Length (Words)')\n",
    "plt.ylabel('Frequency')\n",
    "plt.show()"
   ]
  },
  {
   "cell_type": "markdown",
   "metadata": {},
   "source": [
    "Step 3: Directed Brand/Product Analysis\n",
    "We'll find out which products or brands are mentioned most frequently"
   ]
  },
  {
   "cell_type": "code",
   "execution_count": 19,
   "metadata": {},
   "outputs": [
    {
     "name": "stdout",
     "output_type": "stream",
     "text": [
      "Brand/Product Frequency Count:\n",
      "ipad                               946\n",
      "apple                              661\n",
      "ipad or iphone app                 470\n",
      "google                             430\n",
      "iphone                             297\n",
      "other google product or service    293\n",
      "android app                         81\n",
      "android                             78\n",
      "other apple product or service      35\n",
      "Name: emotion_in_tweet_is_directed_at, dtype: int64\n"
     ]
    },
    {
     "data": {
      "image/png": "[encoded data removed]",
      "text/plain": [
       "<Figure size 864x432 with 1 Axes>"
      ]
     },
     "metadata": {
      "needs_background": "light"
     },
     "output_type": "display_data"
    }
   ],
   "source": [
    "brand_counts = df['emotion_in_tweet_is_directed_at'].value_counts()\n",
    "print(\"Brand/Product Frequency Count:\")\n",
    "print(brand_counts)\n",
    "\n",
    "# Bar chart for brand mentions\n",
    "plt.figure(figsize=(12, 6))\n",
    "sns.barplot(x=brand_counts.index, y=brand_counts.values)\n",
    "plt.title('Frequency of Brands/Products Mentioned')\n",
    "plt.xlabel('Brands/Products')\n",
    "plt.ylabel('Frequency')\n",
    "plt.xticks(rotation=45)\n",
    "plt.show()"
   ]
  },
  {
   "cell_type": "markdown",
   "metadata": {},
   "source": [
    "Step 4: Hashtags and Mentions Analysis\n",
    "We'll extract hashtags and mentions and analyze their frequency."
   ]
  },
  {
   "cell_type": "code",
   "execution_count": 20,
   "metadata": {},
   "outputs": [
    {
     "name": "stdout",
     "output_type": "stream",
     "text": [
      "Most common hashtags: [('#sxsw', 1703), ('#SXSW', 1527), ('#Apple', 94), ('#apple', 83), ('#iPad', 81), ('#iPad2', 65), ('#SxSW', 61), ('#iPhone', 60), ('#sxswi', 59), ('#ipad2', 56)]\n",
      "Most common mentions: [('@mention', 2272), ('@madebymany', 5), ('@mentionR', 2), ('@wesley83', 1), ('@jessedee', 1), ('@fludapp', 1), ('@swonderlin', 1), ('@sxsw', 1), ('@sxtxstate', 1), ('@thenextweb', 1)]\n"
     ]
    }
   ],
   "source": [
    "# Extract hashtags and mentions\n",
    "df['hashtags'] = df['tweet_text'].apply(lambda x: re.findall(r'#\\w+', x))\n",
    "df['mentions'] = df['tweet_text'].apply(lambda x: re.findall(r'@\\w+', x))\n",
    "\n",
    "# Flatten the lists and count frequency\n",
    "all_hashtags = [item for sublist in df['hashtags'] for item in sublist]\n",
    "all_mentions = [item for sublist in df['mentions'] for item in sublist]\n",
    "hashtag_freq = Counter(all_hashtags)\n",
    "mention_freq = Counter(all_mentions)\n",
    "\n",
    "# Print the most common hashtags and mentions\n",
    "print(\"Most common hashtags:\", hashtag_freq.most_common(10))\n",
    "print(\"Most common mentions:\", mention_freq.most_common(10))"
   ]
  },
  {
   "cell_type": "markdown",
   "metadata": {},
   "source": [
    "Step 5: Keyword Analysis\n",
    "We'll check for the presence of specific positive or negative keywords and visualize their occurrences."
   ]
  },
  {
   "cell_type": "code",
   "execution_count": 21,
   "metadata": {},
   "outputs": [
    {
     "data": {
      "image/png": "[encoded data removed]",
      "text/plain": [
       "<Figure size 864x432 with 1 Axes>"
      ]
     },
     "metadata": {
      "needs_background": "light"
     },
     "output_type": "display_data"
    }
   ],
   "source": [
    "# Define keywords\n",
    "positive_keywords = ['great', 'love', 'excellent', 'happy', 'best']\n",
    "negative_keywords = ['bad', 'hate', 'terrible', 'awful', 'worst']\n",
    "\n",
    "# Create binary features for keywords\n",
    "for keyword in positive_keywords + negative_keywords:\n",
    "    df[f'contains_{keyword}'] = df['tweet_text'].str.contains(keyword, case=False, na=False).astype(int)\n",
    "\n",
    "# Count occurrences of keywords\n",
    "positive_counts = df[[f'contains_{keyword}' for keyword in positive_keywords]].sum()\n",
    "negative_counts = df[[f'contains_{keyword}' for keyword in negative_keywords]].sum()\n",
    "\n",
    "# Visualization of keyword presence\n",
    "plt.figure(figsize=(12, 6))\n",
    "sns.barplot(x=positive_counts.index, y=positive_counts.values, color='green', label='Positive')\n",
    "sns.barplot(x=negative_counts.index, y=negative_counts.values, color='red', label='Negative')\n",
    "plt.title('Keyword Presence in Tweets')\n",
    "plt.ylabel('Frequency')\n",
    "plt.xticks(rotation=45)\n",
    "plt.legend()\n",
    "plt.show()"
   ]
  },
  {
   "cell_type": "markdown",
   "metadata": {},
   "source": [
    "Step : Correlation Analysis\n",
    "We'll analyze the correlation between numeric features if applicable."
   ]
  },
  {
   "cell_type": "code",
   "execution_count": 22,
   "metadata": {},
   "outputs": [
    {
     "data": {
      "image/png": "[encoded data removed]",
      "text/plain": [
       "<Figure size 576x432 with 2 Axes>"
      ]
     },
     "metadata": {
      "needs_background": "light"
     },
     "output_type": "display_data"
    }
   ],
   "source": [
    "\n",
    "correlation_matrix = df[['tweet_length', 'tweet_length_words']].corr()\n",
    "plt.figure(figsize=(8, 6))\n",
    "sns.heatmap(correlation_matrix, annot=True, fmt='.2f', cmap='coolwarm')\n",
    "plt.title('Correlation Matrix')\n",
    "plt.show()"
   ]
  },
  {
   "cell_type": "markdown",
   "metadata": {},
   "source": [
    "Step 7: Feature Engineering\n",
    "We'll calculate features for tweet lengths, keyword presence, and engagement.\n",
    "\n"
   ]
  },
  {
   "cell_type": "code",
   "execution_count": 23,
   "metadata": {},
   "outputs": [],
   "source": [
    "\n",
    "if 'retweets' in df.columns and 'likes' in df.columns:\n",
    "    df['engagement'] = df['retweets'] + df['likes']\n",
    "    print(df[['retweets', 'likes', 'engagement']].head(10))"
   ]
  },
  {
   "cell_type": "markdown",
   "metadata": {},
   "source": [
    "# Model preparation after EDA"
   ]
  },
  {
   "cell_type": "code",
   "execution_count": 24,
   "metadata": {},
   "outputs": [],
   "source": [
    "import pandas as pd\n",
    "from sklearn.model_selection import train_test_split\n",
    "from nltk.corpus import stopwords\n",
    "from nltk.stem import PorterStemmer\n",
    "import nltk\n",
    "import re"
   ]
  },
  {
   "cell_type": "markdown",
   "metadata": {},
   "source": [
    "# creating Target labels"
   ]
  },
  {
   "cell_type": "code",
   "execution_count": 25,
   "metadata": {},
   "outputs": [
    {
     "name": "stdout",
     "output_type": "stream",
     "text": [
      "   is_there_an_emotion_directed_at_a_brand_or_product  sentiment\n",
      "0                                    negative emotion       -1.0\n",
      "1                                    positive emotion        1.0\n",
      "2                                    positive emotion        1.0\n",
      "3                                    negative emotion       -1.0\n",
      "4                                    positive emotion        1.0\n",
      "7                                    positive emotion        1.0\n",
      "8                                    positive emotion        1.0\n",
      "9                                    positive emotion        1.0\n",
      "10                                   positive emotion        1.0\n",
      "11                                   positive emotion        1.0\n"
     ]
    }
   ],
   "source": [
    "df['sentiment'] = df['is_there_an_emotion_directed_at_a_brand_or_product'].map({\n",
    "    'positive emotion': 1,\n",
    "    'negative emotion': -1,\n",
    "    'no emotion toward brand or product': 0\n",
    "})\n",
    "print(df[['is_there_an_emotion_directed_at_a_brand_or_product', 'sentiment']].head(10))"
   ]
  },
  {
   "cell_type": "code",
   "execution_count": 26,
   "metadata": {},
   "outputs": [
    {
     "name": "stdout",
     "output_type": "stream",
     "text": [
      " 1.0    2672\n",
      "-1.0     519\n",
      " 0.0      91\n",
      "Name: sentiment, dtype: int64\n"
     ]
    }
   ],
   "source": [
    "print(df['sentiment'].value_counts())\n"
   ]
  },
  {
   "cell_type": "code",
   "execution_count": 27,
   "metadata": {},
   "outputs": [
    {
     "name": "stdout",
     "output_type": "stream",
     "text": [
      "['negative emotion' 'positive emotion'\n",
      " 'no emotion toward brand or product' \"i can't tell\"]\n"
     ]
    }
   ],
   "source": [
    "unique_labels = df['is_there_an_emotion_directed_at_a_brand_or_product'].unique()\n",
    "print(unique_labels)\n"
   ]
  },
  {
   "cell_type": "markdown",
   "metadata": {},
   "source": [
    "## Distribution of target labels"
   ]
  },
  {
   "cell_type": "code",
   "execution_count": 28,
   "metadata": {},
   "outputs": [
    {
     "data": {
      "image/png": "[encoded data removed]",
      "text/plain": [
       "<Figure size 720x432 with 1 Axes>"
      ]
     },
     "metadata": {},
     "output_type": "display_data"
    }
   ],
   "source": [
    "import matplotlib.pyplot as plt\n",
    "import seaborn as sns\n",
    "\n",
    "# Set the style for seaborn\n",
    "sns.set(style='whitegrid')\n",
    "\n",
    "# Count the occurrences of each sentiment label\n",
    "sentiment_counts = df['is_there_an_emotion_directed_at_a_brand_or_product'].value_counts()\n",
    "\n",
    "# Create a bar plot for sentiment distribution\n",
    "plt.figure(figsize=(10, 6))\n",
    "sns.barplot(x=sentiment_counts.index, y=sentiment_counts.values, palette='viridis')\n",
    "plt.title('Distribution of Tweet Sentiments')\n",
    "plt.xlabel('Sentiment')\n",
    "plt.ylabel('Number of Tweets')\n",
    "plt.xticks(rotation=45)\n",
    "plt.show()"
   ]
  },
  {
   "cell_type": "markdown",
   "metadata": {},
   "source": [
    "## Filtering for Binary classification"
   ]
  },
  {
   "cell_type": "code",
   "execution_count": 29,
   "metadata": {},
   "outputs": [],
   "source": [
    "df_binary = df[df['sentiment'].isin(['positive', 'negative'])]\n"
   ]
  },
  {
   "cell_type": "markdown",
   "metadata": {},
   "source": [
    "# Text Preprocessing"
   ]
  },
  {
   "cell_type": "code",
   "execution_count": 30,
   "metadata": {},
   "outputs": [],
   "source": [
    "from nltk.tokenize import word_tokenize\n",
    "from nltk.corpus import stopwords\n",
    "from nltk.stem import WordNetLemmatizer\n",
    "import nltk"
   ]
  },
  {
   "cell_type": "markdown",
   "metadata": {},
   "source": [
    "Tokenization: Break the cleaned tweets into individual words.\n",
    "\n",
    "Lowercasing: Convert all text to lowercase to ensure uniformity.\n",
    "\n",
    "Removing Stopwords: Remove common words that may not contribute to sentiment (e.g., \"and\", \"the\", \"is\").\n",
    "\n",
    "Stemming/Lemmatization: Normalize words to their base or root forms"
   ]
  },
  {
   "cell_type": "code",
   "execution_count": 31,
   "metadata": {},
   "outputs": [
    {
     "name": "stderr",
     "output_type": "stream",
     "text": [
      "[nltk_data] Downloading package punkt to\n",
      "[nltk_data]     C:\\Users\\BENNLANGAT\\AppData\\Roaming\\nltk_data...\n",
      "[nltk_data]   Package punkt is already up-to-date!\n",
      "[nltk_data] Downloading package stopwords to\n",
      "[nltk_data]     C:\\Users\\BENNLANGAT\\AppData\\Roaming\\nltk_data...\n",
      "[nltk_data]   Package stopwords is already up-to-date!\n",
      "[nltk_data] Downloading package wordnet to\n",
      "[nltk_data]     C:\\Users\\BENNLANGAT\\AppData\\Roaming\\nltk_data...\n",
      "[nltk_data]   Package wordnet is already up-to-date!\n"
     ]
    }
   ],
   "source": [
    "# Download required NLTK resources \n",
    "nltk.download('punkt')\n",
    "nltk.download('stopwords')\n",
    "nltk.download('wordnet')\n",
    "\n",
    "def preprocess_text(text):\n",
    "    text = text.lower()  # Convert to lowercase\n",
    "    text = re.sub(r'http\\S+|www\\S+|https\\S+', '', text, flags=re.MULTILINE)  # Remove URLs\n",
    "    text = re.sub(r'\\@\\w+|\\#', '', text)  # Remove mentions and hashtags\n",
    "    text = re.sub(r'[^a-zA-Z\\s]', '', text)  # Remove special characters\n",
    "    return text\n",
    "\n",
    "df_binary['tweet_text'] = df_binary['tweet_text'].apply(preprocess_text)\n"
   ]
  },
  {
   "cell_type": "markdown",
   "metadata": {},
   "source": [
    "# Train-test split"
   ]
  },
  {
   "cell_type": "code",
   "execution_count": 34,
   "metadata": {},
   "outputs": [
    {
     "name": "stdout",
     "output_type": "stream",
     "text": [
      "9\n"
     ]
    }
   ],
   "source": [
    "print(df['sentiment'].isna().sum())"
   ]
  },
  {
   "cell_type": "code",
   "execution_count": 36,
   "metadata": {},
   "outputs": [],
   "source": [
    "df = df.dropna(subset=['sentiment'])\n"
   ]
  },
  {
   "cell_type": "code",
   "execution_count": 37,
   "metadata": {},
   "outputs": [
    {
     "name": "stdout",
     "output_type": "stream",
     "text": [
      "0\n"
     ]
    }
   ],
   "source": [
    "print(df['sentiment'].isna().sum())"
   ]
  },
  {
   "cell_type": "code",
   "execution_count": 38,
   "metadata": {},
   "outputs": [],
   "source": [
    "X_train, X_test, y_train, y_test = train_test_split(\n",
    "    df['tweet_text'], \n",
    "    df['sentiment'], \n",
    "    test_size=0.2, \n",
    "    random_state=42, \n",
    "    stratify=df['sentiment']\n",
    ")\n"
   ]
  },
  {
   "cell_type": "markdown",
   "metadata": {},
   "source": [
    "Vectorization"
   ]
  },
  {
   "cell_type": "code",
   "execution_count": 41,
   "metadata": {},
   "outputs": [],
   "source": [
    "from sklearn.feature_extraction.text import TfidfVectorizer\n",
    "\n",
    "tfidf_vectorizer = TfidfVectorizer(stop_words='english')\n",
    "X_train_tfidf = tfidf_vectorizer.fit_transform(X_train)\n",
    "X_test_tfidf = tfidf_vectorizer.transform(X_test)\n"
   ]
  },
  {
   "cell_type": "markdown",
   "metadata": {},
   "source": [
    "# Modeling"
   ]
  },
  {
   "cell_type": "code",
   "execution_count": null,
   "metadata": {},
   "outputs": [],
   "source": []
  },
  {
   "cell_type": "code",
   "execution_count": 46,
   "metadata": {},
   "outputs": [],
   "source": [
    "import pandas as pd\n",
    "import numpy as np\n",
    "from sklearn.model_selection import train_test_split\n",
    "from sklearn.feature_extraction.text import CountVectorizer\n",
    "from sklearn.linear_model import LogisticRegression\n",
    "from sklearn.metrics import accuracy_score, precision_score, recall_score, f1_score, classification_report\n",
    "from sklearn.metrics import accuracy_score, confusion_matrix, classification_report\n"
   ]
  },
  {
   "cell_type": "code",
   "execution_count": 47,
   "metadata": {},
   "outputs": [
    {
     "data": {
      "text/plain": [
       "LogisticRegression()"
      ]
     },
     "execution_count": 47,
     "metadata": {},
     "output_type": "execute_result"
    }
   ],
   "source": [
    "model = LogisticRegression()\n",
    "model.fit(X_train_tfidf, y_train)\n"
   ]
  },
  {
   "cell_type": "code",
   "execution_count": 48,
   "metadata": {},
   "outputs": [],
   "source": [
    "y_pred = model.predict(X_test_tfidf)\n"
   ]
  },
  {
   "cell_type": "code",
   "execution_count": 51,
   "metadata": {},
   "outputs": [
    {
     "name": "stdout",
     "output_type": "stream",
     "text": [
      "Accuracy: 0.8447\n",
      "Confusion Matrix:\n",
      "[[ 21   0  83]\n",
      " [  2   0  16]\n",
      " [  1   0 534]]\n",
      "Classification Report:\n",
      "              precision    recall  f1-score   support\n",
      "\n",
      "        -1.0       0.88      0.20      0.33       104\n",
      "         0.0       0.00      0.00      0.00        18\n",
      "         1.0       0.84      1.00      0.91       535\n",
      "\n",
      "    accuracy                           0.84       657\n",
      "   macro avg       0.57      0.40      0.41       657\n",
      "weighted avg       0.83      0.84      0.80       657\n",
      "\n"
     ]
    },
    {
     "ename": "TypeError",
     "evalue": "string indices must be integers",
     "output_type": "error",
     "traceback": [
      "\u001b[1;31m---------------------------------------------------------------------------\u001b[0m",
      "\u001b[1;31mTypeError\u001b[0m                                 Traceback (most recent call last)",
      "\u001b[1;32m<ipython-input-51-cd8bfb2dc66d>\u001b[0m in \u001b[0;36m<module>\u001b[1;34m\u001b[0m\n\u001b[0;32m     14\u001b[0m \u001b[1;33m\u001b[0m\u001b[0m\n\u001b[0;32m     15\u001b[0m \u001b[1;31m# Extract and print Recall and F1 score for each class\u001b[0m\u001b[1;33m\u001b[0m\u001b[1;33m\u001b[0m\u001b[1;33m\u001b[0m\u001b[0m\n\u001b[1;32m---> 16\u001b[1;33m \u001b[0mpositive_recall\u001b[0m \u001b[1;33m=\u001b[0m \u001b[0mreport\u001b[0m\u001b[1;33m[\u001b[0m\u001b[1;34m'positive'\u001b[0m\u001b[1;33m]\u001b[0m\u001b[1;33m[\u001b[0m\u001b[1;34m'recall'\u001b[0m\u001b[1;33m]\u001b[0m\u001b[1;33m\u001b[0m\u001b[1;33m\u001b[0m\u001b[0m\n\u001b[0m\u001b[0;32m     17\u001b[0m \u001b[0mnegative_recall\u001b[0m \u001b[1;33m=\u001b[0m \u001b[0mreport\u001b[0m\u001b[1;33m[\u001b[0m\u001b[1;34m'negative'\u001b[0m\u001b[1;33m]\u001b[0m\u001b[1;33m[\u001b[0m\u001b[1;34m'recall'\u001b[0m\u001b[1;33m]\u001b[0m\u001b[1;33m\u001b[0m\u001b[1;33m\u001b[0m\u001b[0m\n\u001b[0;32m     18\u001b[0m \u001b[0mpositive_f1\u001b[0m \u001b[1;33m=\u001b[0m \u001b[0mreport\u001b[0m\u001b[1;33m[\u001b[0m\u001b[1;34m'positive'\u001b[0m\u001b[1;33m]\u001b[0m\u001b[1;33m[\u001b[0m\u001b[1;34m'f1-score'\u001b[0m\u001b[1;33m]\u001b[0m\u001b[1;33m\u001b[0m\u001b[1;33m\u001b[0m\u001b[0m\n",
      "\u001b[1;31mTypeError\u001b[0m: string indices must be integers"
     ]
    }
   ],
   "source": [
    "# Accuracy\n",
    "accuracy = accuracy_score(y_test, y_pred)\n",
    "print(f'Accuracy: {accuracy:.4f}')\n",
    "\n",
    "# Confusion Matrix\n",
    "conf_matrix = confusion_matrix(y_test, y_pred)\n",
    "print('Confusion Matrix:')\n",
    "print(conf_matrix)\n",
    "\n",
    "# Classification Report\n",
    "report = classification_report(y_test, y_pred)\n",
    "print('Classification Report:')\n",
    "print(report)\n",
    "\n",
    "# Extract and print Recall and F1 score for each class\n",
    "positive_recall = report['positive']['recall']\n",
    "negative_recall = report['negative']['recall']\n",
    "positive_f1 = report['positive']['f1-score']\n",
    "negative_f1 = report['negative']['f1-score']\n",
    "\n",
    "# Extract Recall and F1 score for each class\n",
    "positive_recall = report['positive']['recall']\n",
    "negative_recall = report['negative']['recall']\n",
    "positive_f1 = report['positive']['f1-score']\n",
    "negative_f1 = report['negative']['f1-score']\n",
    "\n",
    "# Print evaluation metrics\n",
    "print(f'Accuracy: {accuracy:.4f}')\n",
    "print('Confusion Matrix:')\n",
    "print(conf_matrix)\n",
    "print('Classification Report:')\n",
    "print(report)\n",
    "print(f\"Positive Recall: {positive_recall:.4f}\")\n",
    "print(f\"Negative Recall: {negative_recall:.4f}\")\n",
    "print(f\"Positive F1 Score: {positive_f1:.4f}\")\n",
    "print(f\"Negative F1 Score: {negative_f1:.4f}\")\n"
   ]
  },
  {
   "cell_type": "markdown",
   "metadata": {},
   "source": [
    "### Baseline Model"
   ]
  },
  {
   "cell_type": "markdown",
   "metadata": {},
   "source": [
    "### Evaluate the model"
   ]
  },
  {
   "cell_type": "code",
   "execution_count": 54,
   "metadata": {},
   "outputs": [
    {
     "name": "stdout",
     "output_type": "stream",
     "text": [
      "Accuracy: 0.84\n",
      "Precision: 0.83\n",
      "Recall: 0.84\n",
      "F1 Score: 0.80\n",
      "\n",
      "Classification Report:\n",
      "              precision    recall  f1-score   support\n",
      "\n",
      "        -1.0       0.88      0.20      0.33       104\n",
      "         0.0       0.00      0.00      0.00        18\n",
      "         1.0       0.84      1.00      0.91       535\n",
      "\n",
      "    accuracy                           0.84       657\n",
      "   macro avg       0.57      0.40      0.41       657\n",
      "weighted avg       0.83      0.84      0.80       657\n",
      "\n"
     ]
    }
   ],
   "source": [
    "# Calculate evaluation metrics\n",
    "accuracy = accuracy_score(y_test, y_pred)\n",
    "precision = precision_score(y_test, y_pred, average='weighted', zero_division=0)\n",
    "recall = recall_score(y_test, y_pred, average='weighted', zero_division=0)\n",
    "f1 = f1_score(y_test, y_pred, average='weighted', zero_division=0)\n",
    "\n",
    "# Print the results\n",
    "print(f\"Accuracy: {accuracy:.2f}\")\n",
    "print(f\"Precision: {precision:.2f}\")\n",
    "print(f\"Recall: {recall:.2f}\")\n",
    "print(f\"F1 Score: {f1:.2f}\")\n",
    "\n",
    "# Display classification report\n",
    "print(\"\\nClassification Report:\")\n",
    "print(classification_report(y_test, y_pred))\n"
   ]
  },
  {
   "cell_type": "markdown",
   "metadata": {},
   "source": [
    "### Applying SMOTE "
   ]
  },
  {
   "cell_type": "code",
   "execution_count": 55,
   "metadata": {},
   "outputs": [],
   "source": [
    "import pandas as pd\n",
    "from sklearn.model_selection import train_test_split\n",
    "from imblearn.over_sampling import SMOTE\n",
    "from sklearn.linear_model import LogisticRegression\n",
    "from sklearn.metrics import classification_report\n"
   ]
  },
  {
   "cell_type": "code",
   "execution_count": 56,
   "metadata": {},
   "outputs": [],
   "source": [
    "from imblearn.over_sampling import SMOTE\n",
    "\n",
    "# Assuming your training data is X_train_tfidf and y_train\n",
    "smote = SMOTE(random_state=42)\n",
    "X_train_smote, y_train_smote = smote.fit_resample(X_train_tfidf, y_train)\n",
    "\n",
    "# Now X_train_smote and y_train_smote can be used to train your multiclass model\n"
   ]
  },
  {
   "cell_type": "markdown",
   "metadata": {},
   "source": [
    "MultiClass Classifier"
   ]
  },
  {
   "cell_type": "code",
   "execution_count": 57,
   "metadata": {},
   "outputs": [
    {
     "name": "stdout",
     "output_type": "stream",
     "text": [
      "Multiclass Accuracy: 0.7869\n",
      "Multiclass Confusion Matrix:\n",
      "[[ 50   6  48]\n",
      " [  5   1  12]\n",
      " [ 50  19 466]]\n",
      "Multiclass Classification Report:\n",
      "{'-1.0': {'precision': 0.47619047619047616, 'recall': 0.4807692307692308, 'f1-score': 0.4784688995215311, 'support': 104}, '0.0': {'precision': 0.038461538461538464, 'recall': 0.05555555555555555, 'f1-score': 0.04545454545454546, 'support': 18}, '1.0': {'precision': 0.8859315589353612, 'recall': 0.8710280373831776, 'f1-score': 0.8784165881244109, 'support': 535}, 'accuracy': 0.786910197869102, 'macro avg': {'precision': 0.466861191195792, 'recall': 0.46911760790265467, 'f1-score': 0.46744667770016246, 'support': 657}, 'weighted avg': {'precision': 0.7978531221408456, 'recall': 0.786910197869102, 'f1-score': 0.7922858782572008, 'support': 657}}\n"
     ]
    }
   ],
   "source": [
    "# Logistic Regression for Multiclass Classification\n",
    "from sklearn.linear_model import LogisticRegression\n",
    "\n",
    "# Train a multiclass logistic regression model\n",
    "multi_class_model = LogisticRegression(multi_class='multinomial', solver='lbfgs')\n",
    "multi_class_model.fit(X_train_smote, y_train_smote)\n",
    "\n",
    "# Predict on the test set\n",
    "y_pred_multiclass = multi_class_model.predict(X_test_tfidf)\n",
    "\n",
    "# Evaluate the multiclass model\n",
    "accuracy_multiclass = accuracy_score(y_test, y_pred_multiclass)\n",
    "conf_matrix_multiclass = confusion_matrix(y_test, y_pred_multiclass)\n",
    "report_multiclass = classification_report(y_test, y_pred_multiclass, output_dict=True)\n",
    "\n",
    "# Print evaluation metrics\n",
    "print(f'Multiclass Accuracy: {accuracy_multiclass:.4f}')\n",
    "print('Multiclass Confusion Matrix:')\n",
    "print(conf_matrix_multiclass)\n",
    "print('Multiclass Classification Report:')\n",
    "print(report_multiclass)\n"
   ]
  },
  {
   "cell_type": "code",
   "execution_count": null,
   "metadata": {},
   "outputs": [],
   "source": [
    "# Remove rows with NaN values\n",
    "X = X.dropna()\n",
    "y = y.dropna()\n",
    "\n",
    "# Keep both X and y consistent\n",
    "X = X.loc[y.index]\n",
    "y = y.loc[X.index]"
   ]
  },
  {
   "cell_type": "code",
   "execution_count": null,
   "metadata": {},
   "outputs": [],
   "source": [
    "# Check and drop NaN values in y_train\n",
    "y_train = y_train.dropna()\n",
    "\n",
    "# Ensure X_train is filtered based on y_train's indices\n",
    "X_train = X_train.loc[y_train.index]\n",
    "\n",
    "# After dropping NaN values in y_train, check if there are any in X_train\n",
    "print(f\"Number of NaN values in X_train: {X_train.isna().sum().sum()}\")\n",
    "print(f\"Number of NaN values in y_train: {y_train.isna().sum()}\")\n"
   ]
  },
  {
   "cell_type": "code",
   "execution_count": null,
   "metadata": {},
   "outputs": [],
   "source": [
    "from sklearn.feature_extraction.text import TfidfVectorizer\n",
    "\n",
    "vectorizer = TfidfVectorizer()\n",
    "X_train_vectorized = vectorizer.fit_transform(X_train)\n"
   ]
  },
  {
   "cell_type": "code",
   "execution_count": null,
   "metadata": {},
   "outputs": [],
   "source": [
    "from sklearn.preprocessing import LabelEncoder\n",
    "\n",
    "le = LabelEncoder()\n",
    "y_train_encoded = le.fit_transform(y_train)\n"
   ]
  },
  {
   "cell_type": "code",
   "execution_count": null,
   "metadata": {},
   "outputs": [],
   "source": [
    "from imblearn.over_sampling import SMOTE\n",
    "\n",
    "smote = SMOTE(random_state=42)\n",
    "X_train_resampled, y_train_resampled = smote.fit_resample(X_train_vectorized, y_train_encoded)\n"
   ]
  },
  {
   "cell_type": "code",
   "execution_count": null,
   "metadata": {},
   "outputs": [],
   "source": [
    "from collections import Counter\n",
    "\n",
    "# Check for class distribution before and after SMOTE\n",
    "print(\"Class distribution before SMOTE:\", Counter(y_train))\n",
    "print(\"Class distribution after SMOTE:\", Counter(y_train_resampled))\n"
   ]
  },
  {
   "cell_type": "markdown",
   "metadata": {},
   "source": [
    "### Advanced models\n"
   ]
  },
  {
   "cell_type": "code",
   "execution_count": null,
   "metadata": {},
   "outputs": [],
   "source": [
    "df['tweet_text'] = df['tweet_text'].fillna('')\n",
    "\n",
    "# Fit and transform the cleaned tweet text\n",
    "X_tfidf = tfidf_vectorizer.fit_transform(df['tweet_text']).toarray()\n"
   ]
  },
  {
   "cell_type": "code",
   "execution_count": null,
   "metadata": {},
   "outputs": [],
   "source": [
    "from sklearn.feature_extraction.text import TfidfVectorizer\n",
    "\n",
    "# Initialize the TF-IDF Vectorizer\n",
    "tfidf_vectorizer = TfidfVectorizer(max_features=5000)  \n",
    "\n",
    "# Fit and transform the cleaned tweet text\n",
    "X_tfidf = tfidf_vectorizer.fit_transform(df['tweet_text']).toarray()\n",
    "\n",
    "# Display the shape of the TF-IDF matrix\n",
    "print(f'TF-IDF Feature Matrix Shape: {X_tfidf.shape}')\n"
   ]
  },
  {
   "cell_type": "markdown",
   "metadata": {},
   "source": [
    "# RANDOM FOREST"
   ]
  },
  {
   "cell_type": "code",
   "execution_count": null,
   "metadata": {},
   "outputs": [],
   "source": [
    "import pandas as pd\n",
    "from sklearn.model_selection import train_test_split, GridSearchCV\n",
    "from sklearn.feature_extraction.text import TfidfVectorizer\n",
    "from sklearn.ensemble import RandomForestClassifier\n",
    "from sklearn.pipeline import Pipeline\n",
    "from sklearn.metrics import classification_report\n",
    "\n",
    "X_cleaned = df_cleaned['tweet_text']\n",
    "y_cleaned = df_cleaned['sentiment']\n",
    "\n",
    "# Split the data into training and testing sets\n",
    "X_train, X_test, y_train, y_test = train_test_split(X_cleaned, y_cleaned, test_size=0.2, random_state=42, stratify=y_cleaned)\n",
    "\n",
    "# Create a pipeline with TF-IDF Vectorization and Random Forest\n",
    "pipeline = Pipeline([\n",
    "    ('tfidf', TfidfVectorizer()),  # Convert text to TF-IDF features\n",
    "    ('rf', RandomForestClassifier(random_state=42))  # Random Forest model\n",
    "])\n"
   ]
  },
  {
   "cell_type": "code",
   "execution_count": null,
   "metadata": {},
   "outputs": [],
   "source": [
    "param_grid = {\n",
    "    'rf__n_estimators': [100, 200],  # Number of trees\n",
    "    'rf__max_depth': [None, 10, 20],  # Maximum depth of the tree\n",
    "    'rf__min_samples_split': [2, 5, 10],  # Minimum samples to split a node\n",
    "}\n"
   ]
  },
  {
   "cell_type": "code",
   "execution_count": null,
   "metadata": {},
   "outputs": [],
   "source": [
    "grid_search = GridSearchCV(pipeline, param_grid, cv=5, scoring='accuracy', n_jobs=-1)\n",
    "grid_search.fit(X_train, y_train)\n",
    "\n",
    "# Get the best estimator\n",
    "best_model = grid_search.best_estimator_\n",
    "print(\"Best parameters found: \", grid_search.best_params_)\n"
   ]
  },
  {
   "cell_type": "code",
   "execution_count": null,
   "metadata": {},
   "outputs": [],
   "source": [
    "# Make predictions on the test set\n",
    "y_pred = best_model.predict(X_test)\n",
    "\n",
    "# Print classification report\n",
    "print(classification_report(y_test, y_pred))\n"
   ]
  },
  {
   "cell_type": "markdown",
   "metadata": {},
   "source": [
    "# Advanced model after Tuning\n",
    "\n",
    "## Neural Network( MLPClassifier)"
   ]
  },
  {
   "cell_type": "code",
   "execution_count": null,
   "metadata": {},
   "outputs": [],
   "source": [
    "import pandas as pd\n",
    "from sklearn.feature_extraction.text import TfidfVectorizer\n",
    "from sklearn.neural_network import MLPClassifier\n",
    "from sklearn.model_selection import train_test_split\n",
    "from sklearn.metrics import classification_report, accuracy_score\n",
    "import numpy as np\n",
    "\n",
    "# Define the vectorizer and limit features to 5000 for manageable computation\n",
    "vectorizer = TfidfVectorizer(max_features=5000)\n",
    "X = vectorizer.fit_transform(df['tweet_text']).toarray()\n",
    "\n",
    "# Extract the target variable\n",
    "y = df['sentiment'].values\n",
    "\n",
    "# Create a mask for non-NaN values in y\n",
    "mask = pd.notna(y)\n",
    "\n",
    "# Filter X and y based on the mask\n",
    "X = X[mask]\n",
    "y = y[mask]\n",
    "\n",
    "# Check the lengths of X and y\n",
    "print(\"Length of X after filtering:\", X.shape[0])\n",
    "print(\"Length of y after filtering:\", len(y))\n",
    "\n",
    "# Split the data into training and test sets\n",
    "X_train, X_test, y_train, y_test = train_test_split(X, y, test_size=0.2, random_state=42, stratify=y)\n",
    "\n",
    "# Initialize the MLPClassifier\n",
    "model_nn = MLPClassifier(hidden_layer_sizes=(100,), max_iter=300, random_state=42)\n",
    "\n",
    "# Train the model\n",
    "model_nn.fit(X_train, y_train)\n",
    "\n",
    "# Predict on the test set\n",
    "y_pred_nn = model_nn.predict(X_test)\n",
    "\n",
    "# Evaluate the model\n",
    "print(\"Accuracy:\", accuracy_score(y_test, y_pred_nn))\n",
    "print(\"Classification Report:\\n\", classification_report(y_test, y_pred_nn))\n"
   ]
  },
  {
   "cell_type": "markdown",
   "metadata": {},
   "source": [
    "# Visual comparison of the above model using matplotlib"
   ]
  },
  {
   "cell_type": "code",
   "execution_count": null,
   "metadata": {},
   "outputs": [],
   "source": [
    "import matplotlib.pyplot as plt\n",
    "import pandas as pd\n",
    "import seaborn as sns\n",
    "\n",
    "# Prepare the data\n",
    "metrics = {\n",
    "    'Model': ['Baseline', 'After SMOTE', 'Tuned Random Forest', 'Neural Network'],\n",
    "    'Accuracy': [0.84, 0.8255, 0.8311, 0.83],\n",
    "    'Precision': [0.81, 0.84, 0.90, 0.81],\n",
    "    'Recall': [0.84, 0.85, 0.87, 0.83],\n",
    "    'F1 Score': [0.82, 0.81, 0.87, 0.82]\n",
    "}\n",
    "\n",
    "# Convert to DataFrame\n",
    "df_metrics = pd.DataFrame(metrics)\n",
    "\n",
    "# Set the plot style\n",
    "sns.set(style='whitegrid')\n",
    "\n",
    "# Create a figure and axis\n",
    "plt.figure(figsize=(12, 6))\n",
    "\n",
    "# Melt the DataFrame for easier plotting\n",
    "df_melted = df_metrics.melt(id_vars='Model', var_name='Metric', value_name='Score')\n",
    "\n",
    "# Create the bar plot\n",
    "sns.barplot(data=df_melted, x='Model', y='Score', hue='Metric', palette='muted')\n",
    "\n",
    "# Add labels and title\n",
    "plt.title('Model Performance Comparison', fontsize=16)\n",
    "plt.xlabel('Model', fontsize=14)\n",
    "plt.ylabel('Score', fontsize=14)\n",
    "plt.ylim(0, 1)  # Set y-axis limits\n",
    "plt.legend(title='Metrics')\n",
    "\n",
    "# Show the plot\n",
    "plt.tight_layout()\n",
    "plt.show()\n"
   ]
  },
  {
   "cell_type": "markdown",
   "metadata": {},
   "source": [
    "The Tuned Random Forest model achieved the highest accuracy (0.85), making it the best performer overall.\n",
    "The Baseline model and Neural Network followed with similar performance (around 0.83).\n",
    "The After SMOTE model, while improving certain metrics, did not surpass the performance of the Tuned Random Forest.\n",
    "In summary, the Tuned Random Forest appears to be the most effective model among those you tested, particularly in terms of accuracy and the ability to handle the positive class."
   ]
  },
  {
   "cell_type": "code",
   "execution_count": null,
   "metadata": {},
   "outputs": [],
   "source": []
  }
 ],
 "metadata": {
  "kernelspec": {
   "display_name": "Python (learn-env)",
   "language": "python",
   "name": "learn-env"
  },
  "language_info": {
   "codemirror_mode": {
    "name": "ipython",
    "version": 3
   },
   "file_extension": ".py",
   "mimetype": "text/x-python",
   "name": "python",
   "nbconvert_exporter": "python",
   "pygments_lexer": "ipython3",
   "version": "3.8.5"
  }
 },
 "nbformat": 4,
 "nbformat_minor": 4
}
