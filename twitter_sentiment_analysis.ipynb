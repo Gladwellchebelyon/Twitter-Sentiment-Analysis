{
 "cells": [
  {
   "cell_type": "markdown",
   "metadata": {},
   "source": [
    "# Summary"
   ]
  },
  {
   "cell_type": "markdown",
   "metadata": {},
   "source": [
    "# Business Understanding"
   ]
  },
  {
   "cell_type": "markdown",
   "metadata": {},
   "source": [
    "# Data Understanding"
   ]
  },
  {
   "cell_type": "markdown",
   "metadata": {},
   "source": [
    "### Importing relevant libraries"
   ]
  },
  {
   "cell_type": "code",
   "execution_count": 1,
   "metadata": {},
   "outputs": [
    {
     "name": "stdout",
     "output_type": "stream",
     "text": [
      "Requirement already satisfied: xgboost in c:\\users\\user\\anaconda3\\lib\\site-packages (2.1.1)\n",
      "Requirement already satisfied: numpy in c:\\users\\user\\anaconda3\\lib\\site-packages (from xgboost) (1.24.3)\n",
      "Requirement already satisfied: scipy in c:\\users\\user\\anaconda3\\lib\\site-packages (from xgboost) (1.13.1)\n",
      "Note: you may need to restart the kernel to use updated packages.\n"
     ]
    }
   ],
   "source": [
    "pip install xgboost\n"
   ]
  },
  {
   "cell_type": "code",
   "execution_count": 2,
   "metadata": {},
   "outputs": [
    {
     "name": "stderr",
     "output_type": "stream",
     "text": [
      "[nltk_data] Downloading package stopwords to\n",
      "[nltk_data]     C:\\Users\\user/nltk_data...\n",
      "[nltk_data]   Package stopwords is already up-to-date!\n",
      "[nltk_data] Downloading package wordnet to C:\\Users\\user/nltk_data...\n",
      "[nltk_data]   Package wordnet is already up-to-date!\n"
     ]
    }
   ],
   "source": [
    "import pandas as pd\n",
    "import nltk\n",
    "nltk.download('stopwords')\n",
    "from nltk.tokenize import word_tokenize\n",
    "from nltk.corpus import stopwords\n",
    "from nltk.stem import PorterStemmer\n",
    "import re\n",
    "from nltk.stem import WordNetLemmatizer\n",
    "nltk.download('wordnet')\n",
    "from sklearn.feature_extraction.text import TfidfVectorizer\n",
    "import matplotlib.pyplot as plt\n",
    "import seaborn as sns\n",
    "from sklearn.preprocessing import LabelEncoder\n",
    "from sklearn.model_selection import train_test_split,GridSearchCV\n",
    "from sklearn.linear_model import LogisticRegression\n",
    "from sklearn.metrics import classification_report,confusion_matrix\n",
    "from xgboost import XGBClassifier\n"
   ]
  },
  {
   "cell_type": "markdown",
   "metadata": {},
   "source": [
    "### Loading the dataset\n"
   ]
  },
  {
   "cell_type": "code",
   "execution_count": 3,
   "metadata": {},
   "outputs": [],
   "source": [
    "df = pd.read_csv(r'C:\\Users\\user\\Documents\\MORINGA\\Phase4\\Project\\Twitter-Sentiment-Analysis\\judge-1377884607_tweet_product_company.csv', encoding= 'ISO-8859-1')\n",
    "  "
   ]
  },
  {
   "cell_type": "code",
   "execution_count": 4,
   "metadata": {},
   "outputs": [
    {
     "data": {
      "text/html": [
       "<div>\n",
       "<style scoped>\n",
       "    .dataframe tbody tr th:only-of-type {\n",
       "        vertical-align: middle;\n",
       "    }\n",
       "\n",
       "    .dataframe tbody tr th {\n",
       "        vertical-align: top;\n",
       "    }\n",
       "\n",
       "    .dataframe thead th {\n",
       "        text-align: right;\n",
       "    }\n",
       "</style>\n",
       "<table border=\"1\" class=\"dataframe\">\n",
       "  <thead>\n",
       "    <tr style=\"text-align: right;\">\n",
       "      <th></th>\n",
       "      <th>tweet_text</th>\n",
       "      <th>emotion_in_tweet_is_directed_at</th>\n",
       "      <th>is_there_an_emotion_directed_at_a_brand_or_product</th>\n",
       "    </tr>\n",
       "  </thead>\n",
       "  <tbody>\n",
       "    <tr>\n",
       "      <th>0</th>\n",
       "      <td>.@wesley83 I have a 3G iPhone. After 3 hrs twe...</td>\n",
       "      <td>iPhone</td>\n",
       "      <td>Negative emotion</td>\n",
       "    </tr>\n",
       "    <tr>\n",
       "      <th>1</th>\n",
       "      <td>@jessedee Know about @fludapp ? Awesome iPad/i...</td>\n",
       "      <td>iPad or iPhone App</td>\n",
       "      <td>Positive emotion</td>\n",
       "    </tr>\n",
       "    <tr>\n",
       "      <th>2</th>\n",
       "      <td>@swonderlin Can not wait for #iPad 2 also. The...</td>\n",
       "      <td>iPad</td>\n",
       "      <td>Positive emotion</td>\n",
       "    </tr>\n",
       "    <tr>\n",
       "      <th>3</th>\n",
       "      <td>@sxsw I hope this year's festival isn't as cra...</td>\n",
       "      <td>iPad or iPhone App</td>\n",
       "      <td>Negative emotion</td>\n",
       "    </tr>\n",
       "    <tr>\n",
       "      <th>4</th>\n",
       "      <td>@sxtxstate great stuff on Fri #SXSW: Marissa M...</td>\n",
       "      <td>Google</td>\n",
       "      <td>Positive emotion</td>\n",
       "    </tr>\n",
       "  </tbody>\n",
       "</table>\n",
       "</div>"
      ],
      "text/plain": [
       "                                          tweet_text  \\\n",
       "0  .@wesley83 I have a 3G iPhone. After 3 hrs twe...   \n",
       "1  @jessedee Know about @fludapp ? Awesome iPad/i...   \n",
       "2  @swonderlin Can not wait for #iPad 2 also. The...   \n",
       "3  @sxsw I hope this year's festival isn't as cra...   \n",
       "4  @sxtxstate great stuff on Fri #SXSW: Marissa M...   \n",
       "\n",
       "  emotion_in_tweet_is_directed_at  \\\n",
       "0                          iPhone   \n",
       "1              iPad or iPhone App   \n",
       "2                            iPad   \n",
       "3              iPad or iPhone App   \n",
       "4                          Google   \n",
       "\n",
       "  is_there_an_emotion_directed_at_a_brand_or_product  \n",
       "0                                   Negative emotion  \n",
       "1                                   Positive emotion  \n",
       "2                                   Positive emotion  \n",
       "3                                   Negative emotion  \n",
       "4                                   Positive emotion  "
      ]
     },
     "execution_count": 4,
     "metadata": {},
     "output_type": "execute_result"
    }
   ],
   "source": [
    "# Printing the first five rows of the data set\n",
    "df.head()"
   ]
  },
  {
   "cell_type": "markdown",
   "metadata": {},
   "source": [
    "### Data Cleaning"
   ]
  },
  {
   "cell_type": "code",
   "execution_count": 5,
   "metadata": {},
   "outputs": [
    {
     "name": "stdout",
     "output_type": "stream",
     "text": [
      "<class 'pandas.core.frame.DataFrame'>\n",
      "RangeIndex: 9093 entries, 0 to 9092\n",
      "Data columns (total 3 columns):\n",
      " #   Column                                              Non-Null Count  Dtype \n",
      "---  ------                                              --------------  ----- \n",
      " 0   tweet_text                                          9092 non-null   object\n",
      " 1   emotion_in_tweet_is_directed_at                     3291 non-null   object\n",
      " 2   is_there_an_emotion_directed_at_a_brand_or_product  9093 non-null   object\n",
      "dtypes: object(3)\n",
      "memory usage: 213.2+ KB\n"
     ]
    }
   ],
   "source": [
    "# Checking for missing values\n",
    "df.info()"
   ]
  },
  {
   "cell_type": "markdown",
   "metadata": {},
   "source": [
    "* There are 9093 rows and three columns in our dataset.\n",
    "* There are missing values in two columns."
   ]
  },
  {
   "cell_type": "code",
   "execution_count": 6,
   "metadata": {},
   "outputs": [
    {
     "data": {
      "text/plain": [
       "emotion_in_tweet_is_directed_at\n",
       "iPad                               946\n",
       "Apple                              661\n",
       "iPad or iPhone App                 470\n",
       "Google                             430\n",
       "iPhone                             297\n",
       "Other Google product or service    293\n",
       "Android App                         81\n",
       "Android                             78\n",
       "Other Apple product or service      35\n",
       "Name: count, dtype: int64"
      ]
     },
     "execution_count": 6,
     "metadata": {},
     "output_type": "execute_result"
    }
   ],
   "source": [
    "# checking for any pattern in the missing values\n",
    "# emotion_in_tweet_is directed_at column\n",
    "df['emotion_in_tweet_is_directed_at'].value_counts()\n"
   ]
  },
  {
   "cell_type": "code",
   "execution_count": 7,
   "metadata": {},
   "outputs": [
    {
     "data": {
      "text/plain": [
       "is_there_an_emotion_directed_at_a_brand_or_product\n",
       "No emotion toward brand or product    5389\n",
       "Positive emotion                      2978\n",
       "Negative emotion                       570\n",
       "I can't tell                           156\n",
       "Name: count, dtype: int64"
      ]
     },
     "execution_count": 7,
     "metadata": {},
     "output_type": "execute_result"
    }
   ],
   "source": [
    "# is_there_an_emotion_directed_at_a_brand_or_product column\n",
    "df['is_there_an_emotion_directed_at_a_brand_or_product'].value_counts()"
   ]
  },
  {
   "cell_type": "code",
   "execution_count": 8,
   "metadata": {},
   "outputs": [
    {
     "data": {
      "text/plain": [
       "tweet_text\n",
       "RT @mention Marissa Mayer: Google Will Connect the Digital &amp; Physical Worlds Through Mobile - {link} #sxsw                                 5\n",
       "RT @mention Google to Launch Major New Social Network Called Circles, Possibly Today {link} #sxsw                                              4\n",
       "RT @mention Marissa Mayer: Google Will Connect the Digital &amp; Physical Worlds Through Mobile - {link} #SXSW                                 4\n",
       "RT @mention Google to Launch Major New Social Network Called Circles, Possibly Today {link} #SXSW                                              3\n",
       "RT @mention ÷¼ GO BEYOND BORDERS! ÷_ {link} ã_ #edchat #musedchat #sxsw #sxswi #classical #newTwitter                                       2\n",
       "                                                                                                                                              ..\n",
       "Great interview to @mention on Bloomberg TV about #Ipad2 to kick off #SxSW.#apple {link}                                                       1\n",
       "Texas Observer Tomlinson says they would double revenue per issue with iPad subscriptions. #newsapps #sxsw                                     1\n",
       "Don't understand people who paid and travelled all the way to #sxsw would wait for hours to get ipad2, esp. when they already have an ipad.    1\n",
       "More farmers use BlackBerry than iPhone, but iPad is catching on because of bigger screen. #mobilefarm #sxsw                                   1\n",
       "Ï¡Ïàü_ÊÎÒ£Áââ_£â_ÛâRT @mention Google Tests ÛÏCheck-in OffersÛ At #SXSW {link}                                       1\n",
       "Name: count, Length: 9065, dtype: int64"
      ]
     },
     "execution_count": 8,
     "metadata": {},
     "output_type": "execute_result"
    }
   ],
   "source": [
    "df['tweet_text'].value_counts()"
   ]
  },
  {
   "cell_type": "markdown",
   "metadata": {},
   "source": [
    "#### Handling missing values"
   ]
  },
  {
   "cell_type": "code",
   "execution_count": 9,
   "metadata": {},
   "outputs": [],
   "source": [
    "# Dropping the null value on 'tweet_text' column\n",
    "df = df.dropna(subset=['tweet_text'])"
   ]
  },
  {
   "cell_type": "code",
   "execution_count": 10,
   "metadata": {},
   "outputs": [],
   "source": [
    "# Dropping the null values on'emotion_in_tweet_is_directed_at' column\n",
    "df= df .dropna(subset=['emotion_in_tweet_is_directed_at'])"
   ]
  },
  {
   "cell_type": "code",
   "execution_count": 11,
   "metadata": {},
   "outputs": [
    {
     "data": {
      "text/plain": [
       "tweet_text                                            0\n",
       "emotion_in_tweet_is_directed_at                       0\n",
       "is_there_an_emotion_directed_at_a_brand_or_product    0\n",
       "dtype: int64"
      ]
     },
     "execution_count": 11,
     "metadata": {},
     "output_type": "execute_result"
    }
   ],
   "source": [
    "# Checking for null values after dropping null values\n",
    "df.isnull().sum()"
   ]
  },
  {
   "cell_type": "code",
   "execution_count": 12,
   "metadata": {},
   "outputs": [
    {
     "data": {
      "text/plain": [
       "is_there_an_emotion_directed_at_a_brand_or_product\n",
       "Positive emotion                      2672\n",
       "Negative emotion                       519\n",
       "No emotion toward brand or product      91\n",
       "I can't tell                             9\n",
       "Name: count, dtype: int64"
      ]
     },
     "execution_count": 12,
     "metadata": {},
     "output_type": "execute_result"
    }
   ],
   "source": [
    "df['is_there_an_emotion_directed_at_a_brand_or_product'].value_counts()\n"
   ]
  },
  {
   "cell_type": "code",
   "execution_count": 13,
   "metadata": {},
   "outputs": [],
   "source": [
    "# merging the 'i cant tell' and 'No emotion' and renaming it neutral\n",
    "df['is_there_an_emotion_directed_at_a_brand_or_product'] = df['is_there_an_emotion_directed_at_a_brand_or_product'].replace({'No emotion toward brand or product': 'Neutral', \"I can't tell\": 'Neutral'})"
   ]
  },
  {
   "cell_type": "code",
   "execution_count": 14,
   "metadata": {},
   "outputs": [
    {
     "data": {
      "text/plain": [
       "is_there_an_emotion_directed_at_a_brand_or_product\n",
       "Positive emotion    2672\n",
       "Negative emotion     519\n",
       "Neutral              100\n",
       "Name: count, dtype: int64"
      ]
     },
     "execution_count": 14,
     "metadata": {},
     "output_type": "execute_result"
    }
   ],
   "source": [
    "df['is_there_an_emotion_directed_at_a_brand_or_product'].value_counts()"
   ]
  },
  {
   "cell_type": "markdown",
   "metadata": {},
   "source": [
    "#### Cleaning Text Data"
   ]
  },
  {
   "cell_type": "code",
   "execution_count": 15,
   "metadata": {},
   "outputs": [
    {
     "name": "stdout",
     "output_type": "stream",
     "text": [
      "                                             tweet_text  \\\n",
      "0     .@wesley83 I have a 3G iPhone. After 3 hrs twe...   \n",
      "1     @jessedee Know about @fludapp ? Awesome iPad/i...   \n",
      "2     @swonderlin Can not wait for #iPad 2 also. The...   \n",
      "3     @sxsw I hope this year's festival isn't as cra...   \n",
      "4     @sxtxstate great stuff on Fri #SXSW: Marissa M...   \n",
      "...                                                 ...   \n",
      "9077  @mention your PR guy just convinced me to swit...   \n",
      "9079  &quot;papyrus...sort of like the ipad&quot; - ...   \n",
      "9080  Diller says Google TV &quot;might be run over ...   \n",
      "9085  I've always used Camera+ for my iPhone b/c it ...   \n",
      "9088                      Ipad everywhere. #SXSW {link}   \n",
      "\n",
      "                                     cleaned_tweet_text  \\\n",
      "0     wesley83 i have a 3g iphone after 3 hrs tweeti...   \n",
      "1     jessedee know about fludapp  awesome ipadiphon...   \n",
      "2     swonderlin can not wait for  2 also they shoul...   \n",
      "3     sxsw i hope this years festival isnt as crashy...   \n",
      "4     sxtxstate great stuff on fri  marissa mayer go...   \n",
      "...                                                 ...   \n",
      "9077  mention your pr guy just convinced me to switc...   \n",
      "9079  quotpapyrussort of like the ipadquot  nice lol...   \n",
      "9080  diller says google tv quotmight be run over by...   \n",
      "9085  ive always used camera for my iphone bc it has...   \n",
      "9088                              ipad everywhere  link   \n",
      "\n",
      "                                        tokenized_tweet  \\\n",
      "0     [wesley83, i, have, a, 3g, iphone, after, 3, h...   \n",
      "1     [jessedee, know, about, fludapp, awesome, ipad...   \n",
      "2     [swonderlin, can, not, wait, for, 2, also, the...   \n",
      "3     [sxsw, i, hope, this, years, festival, isnt, a...   \n",
      "4     [sxtxstate, great, stuff, on, fri, marissa, ma...   \n",
      "...                                                 ...   \n",
      "9077  [mention, your, pr, guy, just, convinced, me, ...   \n",
      "9079  [quotpapyrussort, of, like, the, ipadquot, nic...   \n",
      "9080  [diller, says, google, tv, quotmight, be, run,...   \n",
      "9085  [ive, always, used, camera, for, my, iphone, b...   \n",
      "9088                           [ipad, everywhere, link]   \n",
      "\n",
      "                                       lemmatized_tweet  \n",
      "0     [wesley83, i, have, a, 3g, iphone, after, 3, h...  \n",
      "1     [jessedee, know, about, fludapp, awesome, ipad...  \n",
      "2     [swonderlin, can, not, wait, for, 2, also, the...  \n",
      "3     [sxsw, i, hope, this, year, festival, isnt, a,...  \n",
      "4     [sxtxstate, great, stuff, on, fri, marissa, ma...  \n",
      "...                                                 ...  \n",
      "9077  [mention, your, pr, guy, just, convinced, me, ...  \n",
      "9079  [quotpapyrussort, of, like, the, ipadquot, nic...  \n",
      "9080  [diller, say, google, tv, quotmight, be, run, ...  \n",
      "9085  [ive, always, used, camera, for, my, iphone, b...  \n",
      "9088                           [ipad, everywhere, link]  \n",
      "\n",
      "[3291 rows x 4 columns]\n"
     ]
    }
   ],
   "source": [
    "\n",
    "# Function to clean text\n",
    "def clean_text(text):\n",
    "    # Ensure text is a string\n",
    "    text = str(text)\n",
    "    \n",
    "    # Remove URLs\n",
    "    text = re.sub(r'http\\S+', '', text)\n",
    "    \n",
    "    # Remove hashtags (including the # symbol)\n",
    "    text = re.sub(r'#\\w+', '', text)\n",
    "    \n",
    "    # Remove special characters and punctuation (except spaces)\n",
    "    text = re.sub(r'[^\\w\\s]', '', text)\n",
    "    \n",
    "    # Convert text to lowercase\n",
    "    text = text.lower()\n",
    "    \n",
    "    return text\n",
    "   \n",
    "     #Remove stopwords\n",
    "    stop_words = set(stopwords.words('english'))\n",
    "    filtered_tokens = [word for word in tokens if word not in stop_words]\n",
    "    \n",
    "    return ' '.join(filtered_tokens)\n",
    "\n",
    "# Function to apply lemmatization\n",
    "def lemmatize_text(tokens):\n",
    "    lemmatizer = WordNetLemmatizer()\n",
    "    lemmatized_tokens = [lemmatizer.lemmatize(word) for word in tokens]\n",
    "    return lemmatized_tokens\n",
    "\n",
    "# Apply text cleaning to the \"tweet_text\" column\n",
    "df['cleaned_tweet_text'] = df['tweet_text'].apply(clean_text)\n",
    "\n",
    "# Tokenize the \"tweet_text\" column\n",
    "df['tokenized_tweet'] = df['cleaned_tweet_text'].apply(lambda x: word_tokenize(x))\n",
    "\n",
    "# Apply lemmatization to the tokenized text\n",
    "df['lemmatized_tweet'] = df['tokenized_tweet'].apply(lemmatize_text)\n",
    "\n",
    "# Display the DataFrame with cleaned, tokenized, and lemmatized text\n",
    "print(df[['tweet_text', 'cleaned_tweet_text', 'tokenized_tweet', 'lemmatized_tweet']])"
   ]
  },
  {
   "cell_type": "markdown",
   "metadata": {},
   "source": [
    "### Exploratory Data Analysis"
   ]
  },
  {
   "cell_type": "code",
   "execution_count": 16,
   "metadata": {},
   "outputs": [
    {
     "data": {
      "image/png": "[encoded data removed]",
      "text/plain": [
       "<Figure size 600x400 with 1 Axes>"
      ]
     },
     "metadata": {},
     "output_type": "display_data"
    }
   ],
   "source": [
    "# Assuming you have a DataFrame 'df' with a 'sentiment' column\n",
    "sentiment_counts = df['is_there_an_emotion_directed_at_a_brand_or_product'].value_counts()\n",
    "\n",
    "# Create a bar chart to visualize sentiment distribution\n",
    "plt.figure(figsize=(6, 4))\n",
    "plt.bar(sentiment_counts.index, sentiment_counts.values, color=\"skyblue\")\n",
    "plt.xlabel('Sentiment Labels')\n",
    "plt.ylabel('Count')\n",
    "plt.title('Distribution of Emotion Labels')\n",
    "plt.show()"
   ]
  },
  {
   "cell_type": "code",
   "execution_count": 17,
   "metadata": {},
   "outputs": [
    {
     "data": {
      "image/png": "[encoded data removed]",
      "text/plain": [
       "<Figure size 1500x900 with 1 Axes>"
      ]
     },
     "metadata": {},
     "output_type": "display_data"
    }
   ],
   "source": [
    "#plot the distribution of the count for is_there_an_emotion_directed_at_a_brand_or_product\n",
    "plt.figure(figsize=(15,9))\n",
    "sns.countplot(x='emotion_in_tweet_is_directed_at', hue = 'is_there_an_emotion_directed_at_a_brand_or_product',data = df)\n",
    "plt.title('Emotion Count Directed at Brands')\n",
    "plt.xlabel('Brands')\n",
    "plt.ylabel('Counts')\n",
    "plt.xticks(rotation = 45, ha = 'right')\n",
    "plt.tight_layout()\n",
    "plt.show()"
   ]
  },
  {
   "cell_type": "markdown",
   "metadata": {},
   "source": [
    "### Modeling\n",
    "1. Baseline Model - Logistic Regression"
   ]
  },
  {
   "cell_type": "markdown",
   "metadata": {},
   "source": [
    "##### Label Encoding for the target feature"
   ]
  },
  {
   "cell_type": "code",
   "execution_count": 18,
   "metadata": {},
   "outputs": [
    {
     "name": "stdout",
     "output_type": "stream",
     "text": [
      "['Negative emotion', 'Neutral', 'Positive emotion']\n"
     ]
    }
   ],
   "source": [
    "# Create a LabelEncoder object to make sure 0 represents negative,1 represents Neutral and 2 represents Positive.\n",
    "label_encoder = LabelEncoder()\n",
    "\n",
    "# Fit and transform the 'is_there_an_emotion_directed_at_a_brand_or_product' column\n",
    "df['type_of_emotion_encoded'] = label_encoder.fit_transform(df['is_there_an_emotion_directed_at_a_brand_or_product'])\n",
    "print(list(label_encoder.classes_))\n"
   ]
  },
  {
   "cell_type": "markdown",
   "metadata": {},
   "source": [
    "##### Train - Test Split"
   ]
  },
  {
   "cell_type": "code",
   "execution_count": 19,
   "metadata": {},
   "outputs": [],
   "source": [
    "# Vectorization\n",
    "# Create a TF-IDF vectorizer\n",
    "tfidf_vectorizer = TfidfVectorizer()\n",
    "\n",
    "# Joining the lemmatized tweets into a single string with space as a separator\n",
    "df['lemmatized_tweet'] = df['lemmatized_tweet'].apply(lambda x: ' '.join(x))\n",
    "\n",
    "# Fitting and transforming the text data\n",
    "tfidf_matrix = tfidf_vectorizer.fit_transform(df['lemmatized_tweet'])\n"
   ]
  },
  {
   "cell_type": "code",
   "execution_count": 20,
   "metadata": {},
   "outputs": [
    {
     "name": "stdout",
     "output_type": "stream",
     "text": [
      "              precision    recall  f1-score   support\n",
      "\n",
      "           0       0.86      0.18      0.30       105\n",
      "           1       0.00      0.00      0.00        19\n",
      "           2       0.84      0.99      0.91       535\n",
      "\n",
      "    accuracy                           0.84       659\n",
      "   macro avg       0.57      0.39      0.40       659\n",
      "weighted avg       0.82      0.84      0.78       659\n",
      "\n"
     ]
    },
    {
     "name": "stderr",
     "output_type": "stream",
     "text": [
      "c:\\Users\\user\\anaconda3\\Lib\\site-packages\\sklearn\\metrics\\_classification.py:1531: UndefinedMetricWarning: Precision is ill-defined and being set to 0.0 in labels with no predicted samples. Use `zero_division` parameter to control this behavior.\n",
      "  _warn_prf(average, modifier, f\"{metric.capitalize()} is\", len(result))\n",
      "c:\\Users\\user\\anaconda3\\Lib\\site-packages\\sklearn\\metrics\\_classification.py:1531: UndefinedMetricWarning: Precision is ill-defined and being set to 0.0 in labels with no predicted samples. Use `zero_division` parameter to control this behavior.\n",
      "  _warn_prf(average, modifier, f\"{metric.capitalize()} is\", len(result))\n",
      "c:\\Users\\user\\anaconda3\\Lib\\site-packages\\sklearn\\metrics\\_classification.py:1531: UndefinedMetricWarning: Precision is ill-defined and being set to 0.0 in labels with no predicted samples. Use `zero_division` parameter to control this behavior.\n",
      "  _warn_prf(average, modifier, f\"{metric.capitalize()} is\", len(result))\n"
     ]
    }
   ],
   "source": [
    "# Preparing features and target variable\n",
    "X = tfidf_matrix \n",
    "y = df['type_of_emotion_encoded']\n",
    "\n",
    "# Split the data into training and testing sets using 80% training data\n",
    "X_train, X_test, y_train, y_test = train_test_split(X, y, test_size=0.2, random_state=42)\n",
    "\n",
    "# Training the Logistic Regression model\n",
    "model = LogisticRegression(max_iter=1000) \n",
    "model.fit(X_train, y_train)\n",
    "\n",
    "# Making predictions on the test set\n",
    "y_pred = model.predict(X_test)\n",
    "\n",
    "# Evaluating the model\n",
    "print(classification_report(y_test, y_pred))"
   ]
  },
  {
   "cell_type": "markdown",
   "metadata": {},
   "source": [
    "##### Evaluation\n",
    "* The model performs well for class 2(predicting positive emotions) but poorly for class 1(predicting neutral emotions). This indicates a potential issue, such as class imbalance, where the model has learned to predict the majority class (class 2) effectively but fails to identify instances of class 1.\n",
    "* The low recall and precision for class 1 suggest that improvements are needed to handle this class better."
   ]
  },
  {
   "cell_type": "markdown",
   "metadata": {},
   "source": [
    "2. XGBOOST Model"
   ]
  },
  {
   "cell_type": "code",
   "execution_count": 21,
   "metadata": {},
   "outputs": [
    {
     "name": "stderr",
     "output_type": "stream",
     "text": [
      "c:\\Users\\user\\anaconda3\\Lib\\site-packages\\xgboost\\core.py:158: UserWarning: [10:17:22] WARNING: C:\\buildkite-agent\\builds\\buildkite-windows-cpu-autoscaling-group-i-0015a694724fa8361-1\\xgboost\\xgboost-ci-windows\\src\\learner.cc:740: \n",
      "Parameters: { \"use_label_encoder\" } are not used.\n",
      "\n",
      "  warnings.warn(smsg, UserWarning)\n"
     ]
    },
    {
     "name": "stdout",
     "output_type": "stream",
     "text": [
      "Confusion Matrix:\n",
      "[[ 30   0  74]\n",
      " [  3   0  17]\n",
      " [ 19   2 514]]\n",
      "\n",
      "Classification Report:\n",
      "              precision    recall  f1-score   support\n",
      "\n",
      "           0       0.58      0.29      0.38       104\n",
      "           1       0.00      0.00      0.00        20\n",
      "           2       0.85      0.96      0.90       535\n",
      "\n",
      "    accuracy                           0.83       659\n",
      "   macro avg       0.48      0.42      0.43       659\n",
      "weighted avg       0.78      0.83      0.79       659\n",
      "\n"
     ]
    }
   ],
   "source": [
    "\n",
    "# Preparing features and target variable\n",
    "X = tfidf_matrix \n",
    "y = df['type_of_emotion_encoded']\n",
    "\n",
    "# Split the data\n",
    "X_train, X_test, y_train, y_test = train_test_split(X, y, test_size=0.2, random_state=42, stratify=y)\n",
    "\n",
    "# Training the XGBOOST model\n",
    "# Initialize the XGBoost model\n",
    "xgb_model = XGBClassifier(\n",
    "    objective='multi:softmax',  # For multi-class classification\n",
    "    num_class=len(y.unique()),   # Number of unique classes\n",
    "    eval_metric='mlogloss',       # Evaluation metric\n",
    "    scale_pos_weight=None,        # Set for handling class imbalance if needed\n",
    "    use_label_encoder=False,       # To avoid warnings\n",
    "    random_state=42\n",
    ")\n",
    "\n",
    "# Fitting the model\n",
    "xgb_model.fit(X_train, y_train)\n",
    "\n",
    "# Making predictions\n",
    "y_pred = xgb_model.predict(X_test)\n",
    "\n",
    "# Evaluating the model\n",
    "print(\"Confusion Matrix:\")\n",
    "print(confusion_matrix(y_test, y_pred))\n",
    "\n",
    "print(\"\\nClassification Report:\")\n",
    "print(classification_report(y_test, y_pred))\n",
    "\n",
    "\n"
   ]
  },
  {
   "cell_type": "markdown",
   "metadata": {},
   "source": [
    "##### Evaluation\n",
    "* The model performs well on Class 2(predicting positive emotions) but struggles significantly with Class 1(predicting neutral emotions).\n",
    "* The low precision and recall for Class 1 indicate that the model is not effectively capturing that class.\n"
   ]
  },
  {
   "cell_type": "markdown",
   "metadata": {},
   "source": [
    "3. XGBOOST with hyperparameter tuning"
   ]
  },
  {
   "cell_type": "code",
   "execution_count": 23,
   "metadata": {},
   "outputs": [],
   "source": [
    "param_grid = {\n",
    "    'learning_rate': [0.01, 0.05, 0.1],\n",
    "    'max_depth': [3, 5, 7],\n",
    "    'min_child_weight': [1, 3, 5],\n",
    "    'subsample': [0.6, 0.8, 1.0],\n",
    "    'colsample_bytree': [0.6, 0.8, 1.0],\n",
    "    'scale_pos_weight': [1, 2]\n",
    "}\n"
   ]
  },
  {
   "cell_type": "code",
   "execution_count": 24,
   "metadata": {},
   "outputs": [],
   "source": [
    "# Set up GridSearchCV\n",
    "grid_search = GridSearchCV(estimator=xgb_model, param_grid=param_grid, \n",
    "                           scoring='f1_weighted',  # Use F1 score for better class imbalance handling\n",
    "                           n_jobs=-1, cv=3, verbose=1)\n"
   ]
  },
  {
   "cell_type": "code",
   "execution_count": 25,
   "metadata": {},
   "outputs": [
    {
     "ename": "AttributeError",
     "evalue": "'GridSearchCV' object has no attribute 'best_params_'",
     "output_type": "error",
     "traceback": [
      "\u001b[1;31m---------------------------------------------------------------------------\u001b[0m",
      "\u001b[1;31mAttributeError\u001b[0m                            Traceback (most recent call last)",
      "Cell \u001b[1;32mIn[25], line 2\u001b[0m\n\u001b[0;32m      1\u001b[0m \u001b[38;5;66;03m# Get the best parameters and best score\u001b[39;00m\n\u001b[1;32m----> 2\u001b[0m best_params \u001b[38;5;241m=\u001b[39m grid_search\u001b[38;5;241m.\u001b[39mbest_params_\n\u001b[0;32m      3\u001b[0m best_score \u001b[38;5;241m=\u001b[39m grid_search\u001b[38;5;241m.\u001b[39mbest_score_\n",
      "\u001b[1;31mAttributeError\u001b[0m: 'GridSearchCV' object has no attribute 'best_params_'"
     ]
    }
   ],
   "source": [
    "# Get the best parameters and best score\n",
    "best_params = grid_search.best_params_\n",
    "best_score = grid_search.best_score_"
   ]
  }
 ],
 "metadata": {
  "kernelspec": {
   "display_name": "base",
   "language": "python",
   "name": "python3"
  },
  "language_info": {
   "codemirror_mode": {
    "name": "ipython",
    "version": 3
   },
   "file_extension": ".py",
   "mimetype": "text/x-python",
   "name": "python",
   "nbconvert_exporter": "python",
   "pygments_lexer": "ipython3",
   "version": "3.11.5"
  }
 },
 "nbformat": 4,
 "nbformat_minor": 2
}
